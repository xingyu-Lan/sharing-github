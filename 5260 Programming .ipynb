{
 "cells": [
  {
   "cell_type": "markdown",
   "id": "c7df0cdb",
   "metadata": {},
   "source": [
    "## GR5260 Programming"
   ]
  },
  {
   "cell_type": "markdown",
   "id": "5de4373c",
   "metadata": {},
   "source": [
    "### 1.21 Class1 "
   ]
  },
  {
   "cell_type": "code",
   "execution_count": 95,
   "id": "f2a57ec8",
   "metadata": {},
   "outputs": [
    {
     "data": {
      "text/plain": [
       "26.0"
      ]
     },
     "execution_count": 95,
     "metadata": {},
     "output_type": "execute_result"
    }
   ],
   "source": [
    "x = 1.3\n",
    "y = 10\n",
    "x, y = 1.3, 20\n",
    "x*y"
   ]
  },
  {
   "cell_type": "code",
   "execution_count": 96,
   "id": "4069b1ad",
   "metadata": {},
   "outputs": [
    {
     "data": {
      "text/plain": [
       "(float, int, float)"
      ]
     },
     "execution_count": 96,
     "metadata": {},
     "output_type": "execute_result"
    }
   ],
   "source": [
    "type (x), type (y), type(x*y)"
   ]
  },
  {
   "cell_type": "code",
   "execution_count": 97,
   "id": "5756f04a",
   "metadata": {},
   "outputs": [
    {
     "data": {
      "text/plain": [
       "1.6900000000000002"
      ]
     },
     "execution_count": 97,
     "metadata": {},
     "output_type": "execute_result"
    }
   ],
   "source": [
    "x**2"
   ]
  },
  {
   "cell_type": "code",
   "execution_count": 99,
   "id": "e3acd613",
   "metadata": {},
   "outputs": [
    {
     "data": {
      "text/plain": [
       "2.6"
      ]
     },
     "execution_count": 99,
     "metadata": {},
     "output_type": "execute_result"
    }
   ],
   "source": [
    "x= 1.3\n",
    "x *=2 #in-place arithmetic\n",
    "x"
   ]
  },
  {
   "cell_type": "code",
   "execution_count": 101,
   "id": "862030a8",
   "metadata": {},
   "outputs": [
    {
     "data": {
      "text/plain": [
       "'my name is kelly'"
      ]
     },
     "execution_count": 101,
     "metadata": {},
     "output_type": "execute_result"
    }
   ],
   "source": [
    "z = 'my name is'\n",
    "w = ' kelly'\n",
    "z+w"
   ]
  },
  {
   "cell_type": "code",
   "execution_count": 102,
   "id": "26a095a8",
   "metadata": {},
   "outputs": [
    {
     "ename": "TypeError",
     "evalue": "can only concatenate str (not \"int\") to str",
     "output_type": "error",
     "traceback": [
      "\u001b[0;31m---------------------------------------------------------------------------\u001b[0m",
      "\u001b[0;31mTypeError\u001b[0m                                 Traceback (most recent call last)",
      "\u001b[0;32m/var/folders/_v/7gcs9p151qn1r6xp96850m8c0000gn/T/ipykernel_35949/2535966908.py\u001b[0m in \u001b[0;36m<module>\u001b[0;34m\u001b[0m\n\u001b[0;32m----> 1\u001b[0;31m \u001b[0mz\u001b[0m\u001b[0;34m+\u001b[0m\u001b[0my\u001b[0m\u001b[0;34m\u001b[0m\u001b[0;34m\u001b[0m\u001b[0m\n\u001b[0m",
      "\u001b[0;31mTypeError\u001b[0m: can only concatenate str (not \"int\") to str"
     ]
    }
   ],
   "source": [
    "z+ y"
   ]
  },
  {
   "cell_type": "code",
   "execution_count": 103,
   "id": "d7991be2",
   "metadata": {},
   "outputs": [
    {
     "data": {
      "text/plain": [
       "'my name is20'"
      ]
     },
     "execution_count": 103,
     "metadata": {},
     "output_type": "execute_result"
    }
   ],
   "source": [
    "z + str(y)"
   ]
  },
  {
   "cell_type": "code",
   "execution_count": 104,
   "id": "cee5e4f4",
   "metadata": {},
   "outputs": [
    {
     "name": "stdout",
     "output_type": "stream",
     "text": [
      "value of v is : 0.13 Good\n"
     ]
    }
   ],
   "source": [
    "# Data display\n",
    "v= x/y\n",
    "print ('value of v is :', v, 'Good')"
   ]
  },
  {
   "cell_type": "code",
   "execution_count": 116,
   "id": "0cec19bf",
   "metadata": {},
   "outputs": [
    {
     "name": "stdout",
     "output_type": "stream",
     "text": [
      "value of v is: 0.1\n"
     ]
    }
   ],
   "source": [
    "# string formatting\n",
    "s ='value of v is: {0:.1f}'.format(v)\n",
    "print(s)"
   ]
  },
  {
   "cell_type": "code",
   "execution_count": 117,
   "id": "c7202d2d",
   "metadata": {},
   "outputs": [
    {
     "name": "stdout",
     "output_type": "stream",
     "text": [
      "two values: 0.1 vs       0.02\n"
     ]
    }
   ],
   "source": [
    "s1 = 'two values: {0:.1f} vs {1:10.2f}'.format(v, v**2)\n",
    "print (s1)"
   ]
  },
  {
   "cell_type": "code",
   "execution_count": 120,
   "id": "0c8447ce",
   "metadata": {},
   "outputs": [
    {
     "name": "stdout",
     "output_type": "stream",
     "text": [
      "two values: 0.1 vs      0.02\n"
     ]
    }
   ],
   "source": [
    "# string interpolation\n",
    "s2 = f'two values: {v:.1f} vs{v**2: 10.2f}'\n",
    "print (s2)"
   ]
  },
  {
   "cell_type": "code",
   "execution_count": 121,
   "id": "d9b26df3",
   "metadata": {},
   "outputs": [
    {
     "name": "stdout",
     "output_type": "stream",
     "text": [
      "good\n"
     ]
    }
   ],
   "source": [
    "# conditional execution\n",
    "# if, else, elif\n",
    "# if v ==0.13:\n",
    "tol = 1.0e-8\n",
    "if abs (v -0.13) < tol:\n",
    "    print ('good')\n",
    "else:\n",
    "    print ('something')"
   ]
  },
  {
   "cell_type": "code",
   "execution_count": 122,
   "id": "bfefdda3",
   "metadata": {},
   "outputs": [
    {
     "name": "stdout",
     "output_type": "stream",
     "text": [
      "0.13\n"
     ]
    }
   ],
   "source": [
    "if v:\n",
    "    print(v)"
   ]
  },
  {
   "cell_type": "code",
   "execution_count": 123,
   "id": "3c73ef7b",
   "metadata": {},
   "outputs": [
    {
     "name": "stdout",
     "output_type": "stream",
     "text": [
      "0\n",
      "2\n",
      "3\n"
     ]
    }
   ],
   "source": [
    "#iterations\n",
    "for i in range (0,5): # range 是一个loop, i 是integer, 0,1,2,3,4,\n",
    "    if i == 1:\n",
    "        continue #skip\n",
    "    if i > 3:\n",
    "        break\n",
    "    print(i)\n"
   ]
  },
  {
   "cell_type": "code",
   "execution_count": 125,
   "id": "52f6eae6",
   "metadata": {},
   "outputs": [],
   "source": [
    "%load_ext mypy_ipython"
   ]
  },
  {
   "cell_type": "code",
   "execution_count": 126,
   "id": "2559521c",
   "metadata": {},
   "outputs": [
    {
     "data": {
      "text/plain": [
       "(6, 21.0, 'aaaaaaaaaa')"
      ]
     },
     "execution_count": 126,
     "metadata": {},
     "output_type": "execute_result"
    }
   ],
   "source": [
    "# funtion defintion\n",
    "# type checking\n",
    "# default value\n",
    "def multiply (x:float, y:float =10) -> float:\n",
    "    return x*y\n",
    "multiply (3,2), multiply (2.1), multiply('a')"
   ]
  },
  {
   "cell_type": "code",
   "execution_count": 127,
   "id": "7ada56e4",
   "metadata": {},
   "outputs": [],
   "source": [
    "def func(x:float, y:float =10) -> float:\n",
    "    f = x*3 +x*y-y**2\n",
    "    return f"
   ]
  },
  {
   "cell_type": "code",
   "execution_count": 128,
   "id": "775588de",
   "metadata": {},
   "outputs": [
    {
     "name": "stdout",
     "output_type": "stream",
     "text": [
      "    p.shape, S0 [:3], p[:3]\n",
      "error: Value of type \"int\" is not indexable\n",
      "    S0 = S0.reshape (N,1)\n",
      "error: \"int\" has no attribute \"reshape\"\n",
      "    v = v.reshape (N,1)\n",
      "error: \"float\" has no attribute \"reshape\"\n",
      "    t_predict[:3], y_test[:3]\n",
      "error: Name 't_predict' is not defined\n",
      "    param_grid - [\n",
      "error: Cannot determine type of 'param_grid'\n",
      "    gs = GridSearchCV (rf, param_grid, cv=5)\n",
      "error: Cannot determine type of 'param_grid'\n",
      "    param_grid - [\n",
      "error: Cannot determine type of 'param_grid'\n",
      "    gs = GridSearchCV (rf, param_grid, cv=5)\n",
      "error: Cannot determine type of 'param_grid'\n",
      "    X, y = make_classificatio (n_samples = n, n_featur\n",
      "error: Name 'make_classificatio' is not defined\n",
      "    s = 'value of v is : {0:.lf}'.format (v)\n",
      "error: Unrecognized format specification \".lf\"\n",
      "    s = 'value of v is : {0:.lf}'.format(v)\n",
      "error: Unrecognized format specification \".lf\"\n",
      "    s ='value of v is : {0:.lf}'.format(v)\n",
      "error: Unrecognized format specification \".lf\"\n",
      "    s ='value of v is: {0:.lf}'.format(v)\n",
      "error: Unrecognized format specification \".lf\"\n",
      "    s ='value of v is: {0:.lf}'.format(v)\n",
      "error: Unrecognized format specification \".lf\"\n",
      "    s ='value of v is: {0:.lf}'.format(v)\n",
      "error: Unrecognized format specification \".lf\"\n",
      "    s ='value of v is: {0:.lf}'.format(v)\n",
      "error: Unrecognized format specification \".lf\"\n",
      "    s ='value of v is: {0:.lf}'.format(v)\n",
      "error: Unrecognized format specification \".lf\"\n",
      "    s ='value of v is: {0:.lf}'.format(v)\n",
      "error: Unrecognized format specification \".lf\"\n",
      "    s ='value of v is: {0:.lf}'.format(v)\n",
      "error: Unrecognized format specification \".lf\"\n",
      "    s ='value of v is: {0:.lf}'.format(v)\n",
      "error: Unrecognized format specification \".lf\"\n",
      "    multiply (3,2), multiply (2.1), multiply('a')\n",
      "error: Argument 1 to \"multiply\" has incompatible type \"str\"; expected \"float\"\n",
      "Found 21 errors in 1 file (checked 1 source file)\n"
     ]
    },
    {
     "name": "stderr",
     "output_type": "stream",
     "text": [
      "Type checking failed\n"
     ]
    }
   ],
   "source": [
    "# type checks\n",
    "%mypy"
   ]
  },
  {
   "cell_type": "code",
   "execution_count": null,
   "id": "aa7de215",
   "metadata": {},
   "outputs": [],
   "source": [
    "# take home exercise: define a function to return the bond price for a given yield"
   ]
  },
  {
   "cell_type": "code",
   "execution_count": null,
   "id": "d95e72c5",
   "metadata": {},
   "outputs": [],
   "source": []
  },
  {
   "cell_type": "code",
   "execution_count": null,
   "id": "4edc8ad8",
   "metadata": {},
   "outputs": [],
   "source": []
  },
  {
   "cell_type": "code",
   "execution_count": null,
   "id": "b8a6ba18",
   "metadata": {},
   "outputs": [],
   "source": []
  },
  {
   "cell_type": "markdown",
   "id": "319f7ebf",
   "metadata": {},
   "source": [
    "### 1.28 Class2 Python Basics"
   ]
  },
  {
   "cell_type": "markdown",
   "id": "f5ca5c7b",
   "metadata": {},
   "source": [
    "### Topics: Functions, exception handling, packages & modules, basic data structures, numpy"
   ]
  },
  {
   "cell_type": "code",
   "execution_count": 129,
   "id": "ddd6f392",
   "metadata": {},
   "outputs": [],
   "source": [
    "# consider fixed rate bond that pays coupons annually\n",
    "# r =coupon rate, y = bond yield, n= number of coupon periods\n",
    "\n",
    "def bond_price (r, y, n, log= False):\n",
    "    price = 0\n",
    "    for i in range (1, n+1):\n",
    "        price += r*100/(1+y)**i\n",
    "    price += 100/(1+y)**n\n",
    "    if log == True:\n",
    "        print ('Logging info...')\n",
    "    return price"
   ]
  },
  {
   "cell_type": "code",
   "execution_count": 130,
   "id": "cbd49b9d",
   "metadata": {},
   "outputs": [
    {
     "name": "stdout",
     "output_type": "stream",
     "text": [
      "Logging info...\n"
     ]
    },
    {
     "data": {
      "text/plain": [
       "128.41391359210502"
      ]
     },
     "execution_count": 130,
     "metadata": {},
     "output_type": "execute_result"
    }
   ],
   "source": [
    "# tab for auto-completion, shift+tab for functuon definition\n",
    "bond_price ( r= 0.04, y=0.01, n= 10, log= True)\n"
   ]
  },
  {
   "cell_type": "code",
   "execution_count": 131,
   "id": "b569ef11",
   "metadata": {},
   "outputs": [
    {
     "data": {
      "text/plain": [
       "102400.0"
      ]
     },
     "execution_count": 131,
     "metadata": {},
     "output_type": "execute_result"
    }
   ],
   "source": [
    "#built-in errors: drawback: once error occurs, the execution stops and \n",
    "# the remaining function and program is not executed\n",
    "bond_price (0.04, 1, -10)"
   ]
  },
  {
   "cell_type": "code",
   "execution_count": 133,
   "id": "6614c387",
   "metadata": {},
   "outputs": [],
   "source": [
    "#docstring: optional\n",
    "def bond_price_test (r, y, n, log= False):\n",
    "    '''\n",
    "    returns bodn price gievn yield\n",
    "    Parameters:\n",
    "    =====\n",
    "    r: float\n",
    "        coupon rate\n",
    "    '''\n",
    "    price = 0\n",
    "    for i in range (1+ n+1):\n",
    "        price += r* 100 /(1+y)**i\n",
    "    price += 100/ (1+y)**n\n",
    "    if log == True:\n",
    "        print ('Logging info...')\n",
    "    return price"
   ]
  },
  {
   "cell_type": "markdown",
   "id": "c7c0e420",
   "metadata": {},
   "source": [
    "## Error handling "
   ]
  },
  {
   "cell_type": "markdown",
   "id": "304b8cdc",
   "metadata": {},
   "source": [
    "Handling an exception with a try statement is called catching an exception. Python starts by executing the try clause. If all goes well, it skips the except clause and proceeds. If an exception occurs, it jumps out of the try clause and executes the except clause"
   ]
  },
  {
   "cell_type": "markdown",
   "id": "d8b9a01f",
   "metadata": {},
   "source": [
    "<li>Built-in exceptions :ValueError, TypeError"
   ]
  },
  {
   "cell_type": "code",
   "execution_count": 134,
   "id": "fa5d9b6b",
   "metadata": {},
   "outputs": [],
   "source": [
    "def bond_price2 (r, y, n, log =False):\n",
    "    price = 0\n",
    "    try:\n",
    "        # not discuss\n",
    "        # if is instance (r, ndarray) == True:\n",
    "        #    print ('r is np.ndarray')\n",
    "        #    if r.dtype.type != np.float64 and r.dtype.type != np.float32:\n",
    "        #.       raise TypeError ('Input arrat r must be floats')\n",
    "        #######\n",
    "        if type(n) != int: # cannot input an array because range (1,n) won't work\n",
    "            raise TypeError ('Input n must be an integer')\n",
    "        if n < 0:\n",
    "            raise ValueError ('Input n must be non-negative')\n",
    "        # let's not discuss checks on r\n",
    "        # if r > 10: # if (r>10).any() == True:\n",
    "        #       raise ValueError('Input rate must be smaller than ...')\n",
    "        for i in range (1, n+1):\n",
    "            price += r*100 / (1+y)**i\n",
    "        price += 100/(1+y)**n\n",
    "    except TypeError as e:\n",
    "        print ('Type error:', e)\n",
    "    print ('We are still here')\n",
    "    if log == True:\n",
    "        print ('Logging info...')\n",
    "    return price"
   ]
  },
  {
   "cell_type": "code",
   "execution_count": 136,
   "id": "9cde39f8",
   "metadata": {},
   "outputs": [
    {
     "ename": "ValueError",
     "evalue": "Input n must be non-negative",
     "output_type": "error",
     "traceback": [
      "\u001b[0;31m---------------------------------------------------------------------------\u001b[0m",
      "\u001b[0;31mValueError\u001b[0m                                Traceback (most recent call last)",
      "\u001b[0;32m/var/folders/_v/7gcs9p151qn1r6xp96850m8c0000gn/T/ipykernel_35949/150089230.py\u001b[0m in \u001b[0;36m<module>\u001b[0;34m\u001b[0m\n\u001b[0;32m----> 1\u001b[0;31m \u001b[0mbond_price2\u001b[0m \u001b[0;34m(\u001b[0m\u001b[0;36m0.04\u001b[0m\u001b[0;34m,\u001b[0m \u001b[0;36m0.01\u001b[0m\u001b[0;34m,\u001b[0m \u001b[0;34m-\u001b[0m\u001b[0;36m10\u001b[0m\u001b[0;34m)\u001b[0m\u001b[0;34m\u001b[0m\u001b[0;34m\u001b[0m\u001b[0m\n\u001b[0m",
      "\u001b[0;32m/var/folders/_v/7gcs9p151qn1r6xp96850m8c0000gn/T/ipykernel_35949/2860316576.py\u001b[0m in \u001b[0;36mbond_price2\u001b[0;34m(r, y, n, log)\u001b[0m\n\u001b[1;32m     11\u001b[0m             \u001b[0;32mraise\u001b[0m \u001b[0mTypeError\u001b[0m \u001b[0;34m(\u001b[0m\u001b[0;34m'Input n must be an integer'\u001b[0m\u001b[0;34m)\u001b[0m\u001b[0;34m\u001b[0m\u001b[0;34m\u001b[0m\u001b[0m\n\u001b[1;32m     12\u001b[0m         \u001b[0;32mif\u001b[0m \u001b[0mn\u001b[0m \u001b[0;34m<\u001b[0m \u001b[0;36m0\u001b[0m\u001b[0;34m:\u001b[0m\u001b[0;34m\u001b[0m\u001b[0;34m\u001b[0m\u001b[0m\n\u001b[0;32m---> 13\u001b[0;31m             \u001b[0;32mraise\u001b[0m \u001b[0mValueError\u001b[0m \u001b[0;34m(\u001b[0m\u001b[0;34m'Input n must be non-negative'\u001b[0m\u001b[0;34m)\u001b[0m\u001b[0;34m\u001b[0m\u001b[0;34m\u001b[0m\u001b[0m\n\u001b[0m\u001b[1;32m     14\u001b[0m         \u001b[0;31m# let's not discuss checks on r\u001b[0m\u001b[0;34m\u001b[0m\u001b[0;34m\u001b[0m\u001b[0m\n\u001b[1;32m     15\u001b[0m         \u001b[0;31m# if r > 10: # if (r>10).any() == True:\u001b[0m\u001b[0;34m\u001b[0m\u001b[0;34m\u001b[0m\u001b[0m\n",
      "\u001b[0;31mValueError\u001b[0m: Input n must be non-negative"
     ]
    }
   ],
   "source": [
    "bond_price2 (0.04, 0.01, -10)"
   ]
  },
  {
   "cell_type": "markdown",
   "id": "8be81b16",
   "metadata": {},
   "source": [
    "## Packages and modules"
   ]
  },
  {
   "cell_type": "code",
   "execution_count": null,
   "id": "76369a99",
   "metadata": {},
   "outputs": [],
   "source": [
    "# module: souce code files (.py)\n",
    "# package: a directory of modules, can also be a mix of packages and modules\n",
    "# Jupyter notebook -> save as a module\n",
    "# Packages are namespaces\n",
    "# Use of namespace: ensure all the names in your program are unique and can be used w"
   ]
  },
  {
   "cell_type": "code",
   "execution_count": 137,
   "id": "81eaebe5",
   "metadata": {},
   "outputs": [
    {
     "data": {
      "text/plain": [
       "0.8516988227033971"
      ]
     },
     "execution_count": 137,
     "metadata": {},
     "output_type": "execute_result"
    }
   ],
   "source": [
    "# to call a function from a module\n",
    "import random as rd\n",
    "# <tab> show dropdown (done by Jedi package, an autocompletion tool)\n",
    "#?rd.uniform\n",
    "rd.uniform(0,1)"
   ]
  },
  {
   "cell_type": "code",
   "execution_count": 138,
   "id": "e2afd5bd",
   "metadata": {},
   "outputs": [],
   "source": [
    "# Exercise: \n",
    "# - create a package (ie. folder) called 'valuation'\n",
    "# - create a module (.py file) called 'bond' to include a function price_from_yield"
   ]
  },
  {
   "cell_type": "code",
   "execution_count": 141,
   "id": "4ca29caf",
   "metadata": {},
   "outputs": [
    {
     "ename": "ModuleNotFoundError",
     "evalue": "No module named 'valuation'",
     "output_type": "error",
     "traceback": [
      "\u001b[0;31m---------------------------------------------------------------------------\u001b[0m",
      "\u001b[0;31mModuleNotFoundError\u001b[0m                       Traceback (most recent call last)",
      "\u001b[0;32m/var/folders/_v/7gcs9p151qn1r6xp96850m8c0000gn/T/ipykernel_35949/4082624274.py\u001b[0m in \u001b[0;36m<module>\u001b[0;34m\u001b[0m\n\u001b[0;32m----> 1\u001b[0;31m \u001b[0;32mimport\u001b[0m \u001b[0mvaluation\u001b[0m\u001b[0;34m.\u001b[0m\u001b[0mbond\u001b[0m \u001b[0;32mas\u001b[0m \u001b[0mbd\u001b[0m\u001b[0;34m\u001b[0m\u001b[0;34m\u001b[0m\u001b[0m\n\u001b[0m\u001b[1;32m      2\u001b[0m \u001b[0mr\u001b[0m \u001b[0;34m=\u001b[0m \u001b[0;36m0.04\u001b[0m\u001b[0;34m\u001b[0m\u001b[0;34m\u001b[0m\u001b[0m\n\u001b[1;32m      3\u001b[0m \u001b[0my\u001b[0m \u001b[0;34m=\u001b[0m \u001b[0;36m0.01\u001b[0m\u001b[0;34m\u001b[0m\u001b[0;34m\u001b[0m\u001b[0m\n\u001b[1;32m      4\u001b[0m \u001b[0mn\u001b[0m \u001b[0;34m=\u001b[0m \u001b[0;36m10\u001b[0m\u001b[0;34m\u001b[0m\u001b[0;34m\u001b[0m\u001b[0m\n\u001b[1;32m      5\u001b[0m \u001b[0mbd\u001b[0m\u001b[0;34m.\u001b[0m\u001b[0mprice_from_yield\u001b[0m\u001b[0;34m(\u001b[0m\u001b[0mr\u001b[0m\u001b[0;34m,\u001b[0m \u001b[0my\u001b[0m\u001b[0;34m,\u001b[0m \u001b[0mn\u001b[0m\u001b[0;34m)\u001b[0m\u001b[0;34m\u001b[0m\u001b[0;34m\u001b[0m\u001b[0m\n",
      "\u001b[0;31mModuleNotFoundError\u001b[0m: No module named 'valuation'"
     ]
    }
   ],
   "source": [
    "import valuation.bond as bd\n",
    "r = 0.04\n",
    "y = 0.01\n",
    "n = 10\n",
    "bd.price_from_yield(r, y, n)"
   ]
  },
  {
   "cell_type": "code",
   "execution_count": 142,
   "id": "1c57fb07",
   "metadata": {},
   "outputs": [
    {
     "ename": "ModuleNotFoundError",
     "evalue": "No module named 'valuation'",
     "output_type": "error",
     "traceback": [
      "\u001b[0;31m---------------------------------------------------------------------------\u001b[0m",
      "\u001b[0;31mModuleNotFoundError\u001b[0m                       Traceback (most recent call last)",
      "\u001b[0;32m/var/folders/_v/7gcs9p151qn1r6xp96850m8c0000gn/T/ipykernel_35949/516040909.py\u001b[0m in \u001b[0;36m<module>\u001b[0;34m\u001b[0m\n\u001b[0;32m----> 1\u001b[0;31m \u001b[0;32mimport\u001b[0m \u001b[0mvaluation\u001b[0m \u001b[0;32mas\u001b[0m \u001b[0mva\u001b[0m\u001b[0;34m\u001b[0m\u001b[0;34m\u001b[0m\u001b[0m\n\u001b[0m\u001b[1;32m      2\u001b[0m \u001b[0mva\u001b[0m\u001b[0;34m.\u001b[0m\u001b[0mbond\u001b[0m\u001b[0;34m.\u001b[0m\u001b[0mprice_from_yield\u001b[0m\u001b[0;34m(\u001b[0m\u001b[0mr\u001b[0m\u001b[0;34m,\u001b[0m \u001b[0my\u001b[0m\u001b[0;34m,\u001b[0m \u001b[0mn\u001b[0m\u001b[0;34m)\u001b[0m\u001b[0;34m\u001b[0m\u001b[0;34m\u001b[0m\u001b[0m\n",
      "\u001b[0;31mModuleNotFoundError\u001b[0m: No module named 'valuation'"
     ]
    }
   ],
   "source": [
    "import valuation as va\n",
    "va.bond.price_from_yield(r, y, n)"
   ]
  },
  {
   "cell_type": "markdown",
   "id": "681f37a2",
   "metadata": {},
   "source": [
    "## Basic data structures: lists, tuples, dictionary"
   ]
  },
  {
   "cell_type": "code",
   "execution_count": 143,
   "id": "87a2b39f",
   "metadata": {},
   "outputs": [
    {
     "data": {
      "text/plain": [
       "['hello', 'changed', 2.0, 'data']"
      ]
     },
     "execution_count": 143,
     "metadata": {},
     "output_type": "execute_result"
    }
   ],
   "source": [
    "# list: sequence of elements, mutable\n",
    "a = ['hello', 1.0, 2.0]\n",
    "a[1] = 'changed'\n",
    "a.append(\"data\") # remove('hello'), insert(pos,'w'), sort()\n",
    "a"
   ]
  },
  {
   "cell_type": "code",
   "execution_count": 144,
   "id": "27481d02",
   "metadata": {},
   "outputs": [
    {
     "data": {
      "text/plain": [
       "[1, 4, 9, 16]"
      ]
     },
     "execution_count": 144,
     "metadata": {},
     "output_type": "execute_result"
    }
   ],
   "source": [
    "# list comprehension\n",
    "b = [i**2 for i in range(1,5)]\n",
    "b"
   ]
  },
  {
   "cell_type": "code",
   "execution_count": 145,
   "id": "fa2577e6",
   "metadata": {},
   "outputs": [],
   "source": [
    "# tuple: sequence of elements, immutable, only a few methods available\n",
    "c = (2, 3)  # store information"
   ]
  },
  {
   "cell_type": "code",
   "execution_count": 146,
   "id": "8aec0423",
   "metadata": {},
   "outputs": [],
   "source": [
    "# dictionary: List of key-value pairs, each key is mapped to a value, mutable\n",
    "data_info = {'shape': (100,3), 'size': 100} "
   ]
  },
  {
   "cell_type": "markdown",
   "id": "1afc73dc",
   "metadata": {},
   "source": [
    "## Numpy: basic functions, vectorization, slice operator, broadcasting"
   ]
  },
  {
   "cell_type": "code",
   "execution_count": 147,
   "id": "02051ea4",
   "metadata": {},
   "outputs": [],
   "source": [
    "import numpy as np"
   ]
  },
  {
   "cell_type": "code",
   "execution_count": 148,
   "id": "0059deb2",
   "metadata": {},
   "outputs": [
    {
     "data": {
      "text/plain": [
       "(array([2, 4, 6, 8]), array([ 2,  4,  8, 16]))"
      ]
     },
     "execution_count": 148,
     "metadata": {},
     "output_type": "execute_result"
    }
   ],
   "source": [
    "x = np.array([i for i in range(1,5)])\n",
    "x*2, 2**x # vectorization: apply math operations elementwise"
   ]
  },
  {
   "cell_type": "code",
   "execution_count": 149,
   "id": "19744dd9",
   "metadata": {},
   "outputs": [
    {
     "data": {
      "text/plain": [
       "(array([ 2.71828183,  7.3890561 , 20.08553692, 54.59815003]),\n",
       " array([False, False,  True,  True]))"
      ]
     },
     "execution_count": 149,
     "metadata": {},
     "output_type": "execute_result"
    }
   ],
   "source": [
    "# show various math methods in dropdown\n",
    "np.exp(x), x>2"
   ]
  },
  {
   "cell_type": "code",
   "execution_count": 150,
   "id": "2f23bd41",
   "metadata": {},
   "outputs": [
    {
     "name": "stdout",
     "output_type": "stream",
     "text": [
      "We are still here\n"
     ]
    },
    {
     "data": {
      "text/plain": [
       "(array([399.98568645, 299.99993161, 249.99999962]),\n",
       " array([0.04 , 0.045, 0.05 ]),\n",
       " array([0.01 , 0.015, 0.02 ]))"
      ]
     },
     "execution_count": 150,
     "metadata": {},
     "output_type": "execute_result"
    }
   ],
   "source": [
    "yy = np.linspace(0.01,0.02,3)\n",
    "rr = np.linspace(0.04,0.05,3)\n",
    "bond_price2(rr, yy, n), rr, yy"
   ]
  },
  {
   "cell_type": "code",
   "execution_count": 151,
   "id": "d0c40bf7",
   "metadata": {},
   "outputs": [
    {
     "data": {
      "text/plain": [
       "array([0., 0., 0., 0., 0.])"
      ]
     },
     "execution_count": 151,
     "metadata": {},
     "output_type": "execute_result"
    }
   ],
   "source": [
    "np.zeros(5) # float by default"
   ]
  },
  {
   "cell_type": "code",
   "execution_count": 152,
   "id": "3fe1c147",
   "metadata": {},
   "outputs": [
    {
     "data": {
      "text/plain": [
       "array([[0, 0, 0],\n",
       "       [0, 0, 0]])"
      ]
     },
     "execution_count": 152,
     "metadata": {},
     "output_type": "execute_result"
    }
   ],
   "source": [
    "np.zeros(shape=(2,3), dtype=int)"
   ]
  },
  {
   "cell_type": "code",
   "execution_count": 153,
   "id": "97723fb4",
   "metadata": {},
   "outputs": [
    {
     "data": {
      "text/plain": [
       "array([[ 0,  1,  2],\n",
       "       [ 3,  4,  5],\n",
       "       [ 6,  7,  8],\n",
       "       [ 9, 10, 11]])"
      ]
     },
     "execution_count": 153,
     "metadata": {},
     "output_type": "execute_result"
    }
   ],
   "source": [
    "w = np.arange(0,12)\n",
    "w2 = w.reshape((4,3))\n",
    "w2"
   ]
  },
  {
   "cell_type": "code",
   "execution_count": 154,
   "id": "e475e62b",
   "metadata": {},
   "outputs": [
    {
     "data": {
      "text/plain": [
       "(array([3, 4]),\n",
       " 11,\n",
       " array([ 3,  4,  5,  6,  7,  8,  9, 10, 11]),\n",
       " array([ 3,  4,  5,  6,  7,  8,  9, 10]),\n",
       " array([0, 1, 2]),\n",
       " array([0, 3, 6, 9]))"
      ]
     },
     "execution_count": 154,
     "metadata": {},
     "output_type": "execute_result"
    }
   ],
   "source": [
    "# slice operator\n",
    "w[3:5], w[-1], w[3:], w[3:-1], w2[0,:], w2[:,0]"
   ]
  },
  {
   "cell_type": "code",
   "execution_count": 155,
   "id": "66ebf6d7",
   "metadata": {},
   "outputs": [
    {
     "data": {
      "text/plain": [
       "array([[ 0.1,  1.2,  2.3],\n",
       "       [ 3.1,  4.2,  5.3],\n",
       "       [ 6.1,  7.2,  8.3],\n",
       "       [ 9.1, 10.2, 11.3]])"
      ]
     },
     "execution_count": 155,
     "metadata": {},
     "output_type": "execute_result"
    }
   ],
   "source": [
    "# broadcasting\n",
    "# https://docs.scipy.org/doc/numpy/user/basics.broadcasting.html\n",
    "# Operations on arrays are extended to cover arrays of different dimensions.\n",
    "# Suppose: Want to add .1 to first column, .2 to 2nd column, .3 to 3rd column\n",
    "w3 = np.array([0.1, 0.2, 0.3])\n",
    "w2 + w3"
   ]
  },
  {
   "cell_type": "code",
   "execution_count": 156,
   "id": "4fc534df",
   "metadata": {},
   "outputs": [
    {
     "data": {
      "text/plain": [
       "(array([[ 0.1,  1.1,  2.1],\n",
       "        [ 3.2,  4.2,  5.2],\n",
       "        [ 6.3,  7.3,  8.3],\n",
       "        [ 9.4, 10.4, 11.4]]),\n",
       " array([[0.1],\n",
       "        [0.2],\n",
       "        [0.3],\n",
       "        [0.4]]))"
      ]
     },
     "execution_count": 156,
     "metadata": {},
     "output_type": "execute_result"
    }
   ],
   "source": [
    "# exercise: how about adding different values to different rows?\n",
    "w4 = np.array([0.1, 0.2, 0.3, 0.4]).reshape((4,1))\n",
    "w2 + w4, w4\n",
    "# Not discuss: rule: Two dimensions are compatible when they are equal or one of them"
   ]
  },
  {
   "cell_type": "code",
   "execution_count": 157,
   "id": "b3276c34",
   "metadata": {},
   "outputs": [],
   "source": [
    "# operations on numpy arrays: insert/append/delete/sort\n",
    "# ask students to try them out themselves if interested"
   ]
  },
  {
   "cell_type": "code",
   "execution_count": 166,
   "id": "18881f3a",
   "metadata": {},
   "outputs": [
    {
     "ename": "SyntaxError",
     "evalue": "unexpected EOF while parsing (2089064553.py, line 3)",
     "output_type": "error",
     "traceback": [
      "\u001b[0;36m  File \u001b[0;32m\"/var/folders/_v/7gcs9p151qn1r6xp96850m8c0000gn/T/ipykernel_35949/2089064553.py\"\u001b[0;36m, line \u001b[0;32m3\u001b[0m\n\u001b[0;31m    np.array([('John', 20, 1.6),('Sam', 19, 1.7)], dtype=datatype)\u001b[0m\n\u001b[0m                                                                  ^\u001b[0m\n\u001b[0;31mSyntaxError\u001b[0m\u001b[0;31m:\u001b[0m unexpected EOF while parsing\n"
     ]
    }
   ],
   "source": [
    "# SKIP: structured ndarray\n",
    "datatype = np.dtype({'names': ['a1', 'a2', 'a3'], 'formats':['S10', np.uint8, np.float],\n",
    "np.array([('John', 20, 1.6),('Sam', 19, 1.7)], dtype=datatype)"
   ]
  },
  {
   "cell_type": "markdown",
   "id": "872ded1c",
   "metadata": {},
   "source": [
    "## Pass by reference vs Pass by value"
   ]
  },
  {
   "cell_type": "code",
   "execution_count": 167,
   "id": "48d7ff23",
   "metadata": {},
   "outputs": [
    {
     "data": {
      "text/plain": [
       "(array([  1., -10.,   1.,   1.,   1.]), array([-10.,   1.]))"
      ]
     },
     "execution_count": 167,
     "metadata": {},
     "output_type": "execute_result"
    }
   ],
   "source": [
    "# A reference variable is an alias, that is, another name for an already existing var\n",
    "a = np.ones(5)\n",
    "b = a[1:3] # by reference\n",
    "b[0] = -10\n",
    "a, b"
   ]
  },
  {
   "cell_type": "code",
   "execution_count": 168,
   "id": "fa197eeb",
   "metadata": {},
   "outputs": [
    {
     "data": {
      "text/plain": [
       "([1, 2, 3, 4], [10, 3])"
      ]
     },
     "execution_count": 168,
     "metadata": {},
     "output_type": "execute_result"
    }
   ],
   "source": [
    "c = [1,2,3,4]\n",
    "d = c[1:3] # pass by values\n",
    "d[0] = 10\n",
    "c, d"
   ]
  },
  {
   "cell_type": "code",
   "execution_count": 169,
   "id": "0e7bce2e",
   "metadata": {},
   "outputs": [
    {
     "data": {
      "text/plain": [
       "(array([  1., -10.,   1.,   1.,   1.]), array([-5.,  1.]))"
      ]
     },
     "execution_count": 169,
     "metadata": {},
     "output_type": "execute_result"
    }
   ],
   "source": [
    "bb = a[1:3].copy()\n",
    "bb[0] = -5\n",
    "a, bb"
   ]
  },
  {
   "cell_type": "code",
   "execution_count": 170,
   "id": "6add1225",
   "metadata": {},
   "outputs": [
    {
     "data": {
      "text/plain": [
       "10.0"
      ]
     },
     "execution_count": 170,
     "metadata": {},
     "output_type": "execute_result"
    }
   ],
   "source": [
    "# in functions: pass arguments by object reference\n",
    "z = np.zeros(5)\n",
    "def modify(x: np.ndarray):\n",
    "    x[0] = 10\n",
    "modify(z)\n",
    "z[0]"
   ]
  },
  {
   "cell_type": "code",
   "execution_count": 171,
   "id": "74af9163",
   "metadata": {},
   "outputs": [],
   "source": [
    "# Prep for next class: write a function for BS_option_price(S0, K, T, r, q, v)"
   ]
  },
  {
   "cell_type": "markdown",
   "id": "59adafa2",
   "metadata": {},
   "source": [
    "## Appendix"
   ]
  },
  {
   "cell_type": "code",
   "execution_count": 172,
   "id": "7071d329",
   "metadata": {},
   "outputs": [
    {
     "data": {
      "text/plain": [
       "array([0.00502448, 0.00500117])"
      ]
     },
     "execution_count": 172,
     "metadata": {},
     "output_type": "execute_result"
    }
   ],
   "source": [
    "# function vectorization: a vector of functions executed in a loop\n",
    "vfunc = np.vectorize(bond_price)\n",
    "nn = np.arange(5,7)\n",
    "vfunc(r, y, nn)"
   ]
  },
  {
   "cell_type": "markdown",
   "id": "4ff9a5f1",
   "metadata": {},
   "source": [
    "What is pycache folder?"
   ]
  },
  {
   "cell_type": "markdown",
   "id": "00500ca2",
   "metadata": {},
   "source": [
    "<li> pycache is a directory that contains bytecode cache files that are automatically generated by python,\n",
    "namely compiled python, or .pyc, files. To speed up loading modules, Python caches the compiled version\n",
    "of each module in the pycache directory under the name module.version.pyc, where the version encodes\n",
    "the format of the compiled file; it generally contains the Python version number\n",
    "<li>Python checks the modification date of the source against the compiled version to see if it’s out of date and\n",
    "needs to be recompiled. This is a completely automatic process. A program doesn’t run any faster when it is\n",
    "read from a .pyc file than when it is read from a .py file; the only thing that’s faster about .pyc files is the\n",
    "speed with which they are loaded."
   ]
  },
  {
   "cell_type": "markdown",
   "id": "06c9c879",
   "metadata": {},
   "source": [
    "What is init_.py?"
   ]
  },
  {
   "cell_type": "markdown",
   "id": "4ecb65e4",
   "metadata": {},
   "source": [
    "<li>The init__.py files are required to make Python treat directories containing the file as packages. This prevents\n",
    "directories with a common name, such as string, unintentionally hiding valid modules that occur later on the\n",
    "module search path. In the simplest case, _init.py can just be an empty file, but it can also execute\n",
    "initialization code for the package or set the all variable\n",
    "<li>Python 3.3+ has Implicit Namespace Packages that allow it to create a package without init_.py files\n",
    "<li>However, if you want to run a particular initialization script when the package or any of its modules or sub-\n",
    "packages are imported, you still require the init file"
   ]
  },
  {
   "cell_type": "markdown",
   "id": "fa176efc",
   "metadata": {},
   "source": [
    "How Python finds packages?"
   ]
  },
  {
   "cell_type": "markdown",
   "id": "7da07895",
   "metadata": {},
   "source": [
    "<li>import sys\n",
    "<li>sys.path #returns the paths that Python looks for packages/modules\n",
    "<li>echo %PATH% (in Anaconda Prompt) # to display environment variable PATH\n",
    "<li>jupyter kernelspec list (in Anaconda Prompt) # display list of python kernels available to Jupyter"
   ]
  },
  {
   "cell_type": "markdown",
   "id": "f576e59e",
   "metadata": {},
   "source": [
    "### 2.4 Class3 MC integration"
   ]
  },
  {
   "cell_type": "code",
   "execution_count": 173,
   "id": "ab65e621",
   "metadata": {},
   "outputs": [],
   "source": [
    "import numpy as np\n",
    "import scipy.stats as stats"
   ]
  },
  {
   "cell_type": "code",
   "execution_count": 174,
   "id": "ec148a0b",
   "metadata": {},
   "outputs": [],
   "source": [
    "def BS_option_value(S0, K, T, r, q, v):\n",
    "    d1 = (np.log(S0/K)+(r-q+0.5*v**2)*T)/(v*np.sqrt(T))\n",
    "    d2 = d1 - v*np.sqrt(T)\n",
    "    price = S0*np.exp(-q*T)*stats.norm.cdf(d1) - K*np.exp(-r*T)*stats.norm.cdf(d2)\n",
    "    return price"
   ]
  },
  {
   "cell_type": "code",
   "execution_count": 175,
   "id": "337c5671",
   "metadata": {},
   "outputs": [
    {
     "data": {
      "text/plain": [
       "22.80986759122129"
      ]
     },
     "execution_count": 175,
     "metadata": {},
     "output_type": "execute_result"
    }
   ],
   "source": [
    "# example\n",
    "S0, K, T, r, q, v = 180, 160, 180/365, 0.02, 0.015, 0.20\n",
    "BS_option_value(S0, K, T, r, q, v)"
   ]
  },
  {
   "cell_type": "code",
   "execution_count": 176,
   "id": "adecf97b",
   "metadata": {},
   "outputs": [],
   "source": [
    "def sim_option_value(S0, K, T, r, q, v, n):\n",
    "    z = np.random.normal(size=n)\n",
    "    S = S0*np.exp((r-q-0.5*v**2)*T + v*np.sqrt(T)*z)\n",
    "    disc_payoff = np.exp(-r*T)*np.maximum(S-K, 0)\n",
    "    price = np.mean(disc_payoff)\n",
    "    return price"
   ]
  },
  {
   "cell_type": "code",
   "execution_count": 177,
   "id": "0ad8fc80",
   "metadata": {},
   "outputs": [
    {
     "data": {
      "text/plain": [
       "22.847788150988183"
      ]
     },
     "execution_count": 177,
     "metadata": {},
     "output_type": "execute_result"
    }
   ],
   "source": [
    "n = 10000\n",
    "sim_option_value(S0, K, T, r, q, v, n)"
   ]
  },
  {
   "cell_type": "code",
   "execution_count": 178,
   "id": "9e4ce8d1",
   "metadata": {},
   "outputs": [],
   "source": [
    "# generate 1000 simulated values\n",
    "# plot the distribution as a histogram\n"
   ]
  },
  {
   "cell_type": "code",
   "execution_count": 179,
   "id": "c209502c",
   "metadata": {},
   "outputs": [],
   "source": [
    "# n = # samples in computing the simulated option value\n",
    "# m = # simulated values\n",
    "def sim_values(S0, K, T, r, q, v, n, m):\n",
    "    outputs = np.zeros(m)\n",
    "    for i in range(m):\n",
    "        outputs[i] = sim_option_value(S0, K, T, r, q, v, n)\n",
    "    return outputs"
   ]
  },
  {
   "cell_type": "code",
   "execution_count": 180,
   "id": "4f18f020",
   "metadata": {},
   "outputs": [],
   "source": [
    "m, n = 1000, 10000\n",
    "values = sim_values(S0, K, T, r, q, v, n, m)\n",
    "n = 50000\n",
    "values2 = sim_values(S0, K, T, r, q, v, n, m)"
   ]
  },
  {
   "cell_type": "code",
   "execution_count": 181,
   "id": "4bd65c73",
   "metadata": {},
   "outputs": [
    {
     "data": {
      "text/plain": [
       "<matplotlib.legend.Legend at 0x7f9d21229430>"
      ]
     },
     "execution_count": 181,
     "metadata": {},
     "output_type": "execute_result"
    },
    {
     "data": {
      "image/png": "[encoded data removed]",
      "text/plain": [
       "<Figure size 432x288 with 1 Axes>"
      ]
     },
     "metadata": {
      "needs_background": "light"
     },
     "output_type": "display_data"
    }
   ],
   "source": [
    "import matplotlib.pyplot as plt\n",
    "plt.hist(values, bins=50, label='10000')\n",
    "plt.hist(values2, bins=50, label='50000')\n",
    "plt.legend()"
   ]
  },
  {
   "cell_type": "markdown",
   "id": "13ca93de",
   "metadata": {},
   "source": [
    "### 2.11 Class4 MC integration Examples"
   ]
  },
  {
   "cell_type": "code",
   "execution_count": 182,
   "id": "3d34414f",
   "metadata": {},
   "outputs": [
    {
     "data": {
      "text/plain": [
       "array([[ 1.4199791 ,  0.93178704],\n",
       "       [ 1.40206368,  0.80365479],\n",
       "       [-0.78207409, -0.78684648]])"
      ]
     },
     "execution_count": 182,
     "metadata": {},
     "output_type": "execute_result"
    }
   ],
   "source": [
    "# generate samples from multivariate normal\n",
    "mean = np.zeros(2)\n",
    "corr = 0.8\n",
    "cov = [[1.0, corr],\n",
    "      [corr, 1.0]]\n",
    "samples = np.random.multivariate_normal(mean, cov, size=5)\n",
    "samples[0:3]"
   ]
  },
  {
   "cell_type": "code",
   "execution_count": 183,
   "id": "e7de0053",
   "metadata": {},
   "outputs": [],
   "source": [
    "# class exercise on Asian option\n",
    "# monthly average: t1, t2,... t6 = 30, 60,..., 180\n",
    "def sim_asian_call_price(S0, K, T, r, q, v, t_array, n):\n",
    "    price = 0\n",
    "    # fill in details\n",
    "    k = len(t_array)\n",
    "    z = np.random.normal(size=(k,n))\n",
    "    S_sum = S = S0*np.exp((r-q-0.5*v**2)*(t_array[0]) + v*np.sqrt(t_array[0])*z[0])\n",
    "    for i in range(1,k):\n",
    "        dt = t_array[i] - t_array[i-1]\n",
    "        S = S*np.exp((r-q-0.5*v**2)*dt + v*np.sqrt(dt)*z[i])\n",
    "        S_sum += S\n",
    "    S_avg = S_sum / k\n",
    "    disc_payoffs = np.exp(-r*T)*np.maximum(S_avg - K,0)\n",
    "    price = np.mean(disc_payoffs)\n",
    "    return price"
   ]
  },
  {
   "cell_type": "code",
   "execution_count": 184,
   "id": "198323fb",
   "metadata": {},
   "outputs": [
    {
     "data": {
      "text/plain": [
       "20.741433641298464"
      ]
     },
     "execution_count": 184,
     "metadata": {},
     "output_type": "execute_result"
    }
   ],
   "source": [
    "S0, K, T, r, q, v = 180, 160, 180/365, 0.02, 0.015, 0.20\n",
    "t_array = np.linspace(30, 180, 6)/365\n",
    "n = 10000\n",
    "sim_asian_call_price(S0, K, T, r, q, v, t_array, n)"
   ]
  },
  {
   "cell_type": "code",
   "execution_count": 185,
   "id": "32f8b8db",
   "metadata": {},
   "outputs": [
    {
     "data": {
      "text/plain": [
       "array([[0., 0., 0., 0.],\n",
       "       [0., 0., 0., 0.],\n",
       "       [0., 0., 0., 0.],\n",
       "       [0., 0., 0., 0.],\n",
       "       [0., 0., 0., 0.]])"
      ]
     },
     "execution_count": 185,
     "metadata": {},
     "output_type": "execute_result"
    }
   ],
   "source": [
    "np.zeros(shape=(5,4))\n",
    "#np.linspace"
   ]
  },
  {
   "cell_type": "code",
   "execution_count": 186,
   "id": "9a080b8b",
   "metadata": {},
   "outputs": [
    {
     "data": {
      "text/plain": [
       "array([ 2.,  4.,  6.,  8., 10.])"
      ]
     },
     "execution_count": 186,
     "metadata": {},
     "output_type": "execute_result"
    }
   ],
   "source": [
    "np.linspace(2, 10, num=5)"
   ]
  },
  {
   "cell_type": "markdown",
   "id": "731cfb36",
   "metadata": {},
   "source": [
    "### 2.18 Class5 OOP"
   ]
  },
  {
   "cell_type": "code",
   "execution_count": 187,
   "id": "c1f7b5d6",
   "metadata": {},
   "outputs": [],
   "source": [
    "# class definition\n",
    "class MyClass(object):\n",
    "    x = 13 # class attribute ('static', not truly static)\n",
    "    # constructor\n",
    "    def __init__(self, y):\n",
    "        print('__init_ is called', y)\n",
    "        self.y = y # class attribute\n",
    "    \n",
    "    def method1(self, a):\n",
    "        print('method1 is called by ', a)"
   ]
  },
  {
   "cell_type": "code",
   "execution_count": 188,
   "id": "9a5a6e77",
   "metadata": {},
   "outputs": [
    {
     "name": "stdout",
     "output_type": "stream",
     "text": [
      "__init_ is called 1.2\n"
     ]
    }
   ],
   "source": [
    "# instance of MyClass\n",
    "c = MyClass(1.2)"
   ]
  },
  {
   "cell_type": "code",
   "execution_count": 189,
   "id": "fcf47af5",
   "metadata": {},
   "outputs": [
    {
     "data": {
      "text/plain": [
       "(1.2, 13, 13)"
      ]
     },
     "execution_count": 189,
     "metadata": {},
     "output_type": "execute_result"
    }
   ],
   "source": [
    "c.y, c.x, MyClass.x"
   ]
  },
  {
   "cell_type": "code",
   "execution_count": 190,
   "id": "34ffcc9a",
   "metadata": {},
   "outputs": [
    {
     "name": "stdout",
     "output_type": "stream",
     "text": [
      "method1 is called by  me\n"
     ]
    }
   ],
   "source": [
    "c.method1('me')"
   ]
  },
  {
   "cell_type": "code",
   "execution_count": 191,
   "id": "2d0d6d04",
   "metadata": {},
   "outputs": [
    {
     "data": {
      "text/plain": [
       "(10, 13)"
      ]
     },
     "execution_count": 191,
     "metadata": {},
     "output_type": "execute_result"
    }
   ],
   "source": [
    "c.x = 10\n",
    "c.x, MyClass.x"
   ]
  },
  {
   "cell_type": "code",
   "execution_count": 192,
   "id": "dac37585",
   "metadata": {},
   "outputs": [],
   "source": [
    "# encapsulation: private vs public (vs protected)\n",
    "# private: __xxx\n",
    "#class MyClass(object):\n",
    "class MyClass:\n",
    "    __x = 13 # private class attribute (only accessible within this class)\n",
    "    x1 = 23\n",
    "    # constructor\n",
    "    def __init__(self, y, w=1.0):\n",
    "        print('__init_ is called', y)\n",
    "        self.y = y # class attribute\n",
    "        self.__w = w\n",
    "        self.__w__ = w + y # private but accessible to public\n",
    " \n",
    "#   def __init__(self):\n",
    "#        print('__init_ is called')\n",
    " \n",
    "    def method1(self, a):\n",
    "        print('method1 is called by ', a)\n",
    " \n",
    "    def __method1(self, a): # private method\n",
    "        print('__method1 is called by ', a)"
   ]
  },
  {
   "cell_type": "code",
   "execution_count": 193,
   "id": "c4e983d3",
   "metadata": {},
   "outputs": [
    {
     "name": "stdout",
     "output_type": "stream",
     "text": [
      "__init_ is called 2\n"
     ]
    }
   ],
   "source": [
    "c1 = MyClass(2,3)"
   ]
  },
  {
   "cell_type": "code",
   "execution_count": 194,
   "id": "5824991d",
   "metadata": {},
   "outputs": [
    {
     "data": {
      "text/plain": [
       "5"
      ]
     },
     "execution_count": 194,
     "metadata": {},
     "output_type": "execute_result"
    }
   ],
   "source": [
    "c1.__w__"
   ]
  },
  {
   "cell_type": "code",
   "execution_count": 195,
   "id": "7eb5aafa",
   "metadata": {},
   "outputs": [
    {
     "data": {
      "text/plain": [
       "13"
      ]
     },
     "execution_count": 195,
     "metadata": {},
     "output_type": "execute_result"
    }
   ],
   "source": [
    "#c1.__method('me') error\n",
    "c1._MyClass__x"
   ]
  },
  {
   "cell_type": "code",
   "execution_count": 196,
   "id": "8f622ffa",
   "metadata": {},
   "outputs": [
    {
     "name": "stdout",
     "output_type": "stream",
     "text": [
      "__init_ is called 1\n"
     ]
    }
   ],
   "source": [
    "a = MyClass(1,4)"
   ]
  },
  {
   "cell_type": "code",
   "execution_count": 197,
   "id": "e233d269",
   "metadata": {},
   "outputs": [],
   "source": [
    "a.x1 = 20"
   ]
  },
  {
   "cell_type": "code",
   "execution_count": 198,
   "id": "2d2d4125",
   "metadata": {},
   "outputs": [
    {
     "name": "stdout",
     "output_type": "stream",
     "text": [
      "__init_ is called 5\n"
     ]
    }
   ],
   "source": [
    "b = MyClass(5,6)"
   ]
  },
  {
   "cell_type": "code",
   "execution_count": 199,
   "id": "4689429c",
   "metadata": {},
   "outputs": [
    {
     "data": {
      "text/plain": [
       "23"
      ]
     },
     "execution_count": 199,
     "metadata": {},
     "output_type": "execute_result"
    }
   ],
   "source": [
    "b.x1"
   ]
  },
  {
   "cell_type": "code",
   "execution_count": 200,
   "id": "08ad4501",
   "metadata": {},
   "outputs": [],
   "source": [
    "MyClass.x1 = 30"
   ]
  },
  {
   "cell_type": "code",
   "execution_count": 201,
   "id": "a4261d13",
   "metadata": {},
   "outputs": [
    {
     "data": {
      "text/plain": [
       "(20, 30)"
      ]
     },
     "execution_count": 201,
     "metadata": {},
     "output_type": "execute_result"
    }
   ],
   "source": [
    "a.x1, b.x1"
   ]
  },
  {
   "cell_type": "code",
   "execution_count": 203,
   "id": "2aa52efa",
   "metadata": {},
   "outputs": [],
   "source": [
    "#inheritance\n",
    "class MySubClass(MyClass):\n",
    "    def __init__(self, y, w, z):\n",
    "        super().__init__(y, w)\n",
    "        self.z = z"
   ]
  },
  {
   "cell_type": "code",
   "execution_count": 204,
   "id": "60294baa",
   "metadata": {},
   "outputs": [
    {
     "name": "stdout",
     "output_type": "stream",
     "text": [
      "__init_ is called 1\n"
     ]
    }
   ],
   "source": [
    "c2 = MySubClass(1,2,3)"
   ]
  },
  {
   "cell_type": "code",
   "execution_count": 205,
   "id": "6e53d5d1",
   "metadata": {},
   "outputs": [],
   "source": [
    "# Example: define classes for different trade types\n",
    "# base: equity trade position"
   ]
  },
  {
   "cell_type": "code",
   "execution_count": 206,
   "id": "3a145d5e",
   "metadata": {},
   "outputs": [],
   "source": [
    "import datetime as dt\n",
    "import numpy as np\n",
    " \n",
    "class Market:\n",
    "    def __init__(self, date, spot_price, vol=0.0, zero_rate=0.0, div_rate=0.0):\n",
    "        self.date = date\n",
    "        self.spot_price = spot_price\n",
    "        self.vol = vol\n",
    "        self.zero_rate = zero_rate\n",
    "        self.div_rate = div_rate\n",
    "        \n",
    "class Trade:\n",
    "    def __init__(self, name, side, quantity): # more attributes\n",
    "        self.name = name\n",
    "        self.side = side # long: +1, short: -1\n",
    "        self.quantity = quantity\n",
    "        \n",
    "    def value(self, mkt):\n",
    "        if not isinstance(mkt, Market):\n",
    "            raise TypeError('Input must be an instance of Market')\n",
    "        return self.side*self.quantity*mkt.spot_price\n",
    "    \n",
    "    def delta(self, mkt):\n",
    "        if not isinstance(mkt, Market):\n",
    "            raise TypeError('Input must be an instance of Market')\n",
    "        return self.side*self.quantity\n",
    "    \n",
    "    def scen_values(self, mkt, spot_prices):\n",
    "        vals = self.side*self.quantity*spot_prices\n",
    "        return vals"
   ]
  },
  {
   "cell_type": "code",
   "execution_count": null,
   "id": "975f5bde",
   "metadata": {},
   "outputs": [],
   "source": [
    "# class exercise: define a subclass EuropeanCall(Trade) for European call option on e"
   ]
  },
  {
   "cell_type": "code",
   "execution_count": 207,
   "id": "b122e881",
   "metadata": {},
   "outputs": [],
   "source": [
    "from scipy import stats\n",
    " \n",
    "# from class notes 3\n",
    "def BS_option_price(S0, K, T, r, q, v):\n",
    "    # can add checks on inputs\n",
    "    d1 = (np.log(S0/K) + (r - q + v**2 /2)*T) / (v*np.sqrt(T))\n",
    "    d2 = d1 - v*np.sqrt(T)\n",
    "    price = S0*np.exp(-q*T)*stats.norm.cdf(d1) - K*np.exp(-r*T)*stats.norm.cdf(d2)\n",
    "    return price"
   ]
  },
  {
   "cell_type": "code",
   "execution_count": 216,
   "id": "8b28e909",
   "metadata": {},
   "outputs": [],
   "source": [
    "class EuropeanCall(Trade):\n",
    "    def __init__(self, name, side, quantity, strike, expiry_date):\n",
    "        Trade.__init__(self, name, side, quantity)\n",
    "        self.strike = strike\n",
    "        self.expiry_date = expiry_date\n",
    "    def value(self, mkt):\n",
    "        t = (self.expiry_date - mkt.date).days / 365\n",
    "        val = BS_option_price(mkt.spot_price, self.strike, t,mkt.zero_rate, mkt.div_rate, mkt.vol) \n",
    "        return self.side*self.quantity*val\n",
    "    def delta(self, mkt):\n",
    "        if not isinstance(mkt, Market):\n",
    "            raise TypeError('Input must be an instance of Market')\n",
    "        t = (self.expiry_date - mkt.date).days / 365\n",
    "        d1 = (np.log(mkt.spot_price/self.strike) + \n",
    "              (mkt.zero_rate - mkt.div_rate + mkt.vol**2 /2)*t) / (mkt.vol*np.sqrt(t))\n",
    "        return self.side*self.quantity*stats.norm.cdf(d1)\n",
    "    def scen_values(self, mkt, spot_prices):\n",
    "        t = (self.expiry_date - mkt.date).days / 365\n",
    "        vals = BS_option_price(spot_prices, self.strike, t,\n",
    "                       mkt.zero_rate, mkt.div_rate, mkt.vol)\n",
    "        return self.side*self.quantity*vals"
   ]
  },
  {
   "cell_type": "markdown",
   "id": "a0b434bd",
   "metadata": {},
   "source": [
    "### 2.25 Class6 "
   ]
  },
  {
   "cell_type": "code",
   "execution_count": 217,
   "id": "10f1fb08",
   "metadata": {},
   "outputs": [],
   "source": [
    "# plotting 2D, 3D\n",
    "# pandas:\n",
    "# - series, dataframe\n",
    "# - data manipulation\n",
    "# - data grouping/aggregation/concatenating dataframes\n",
    "# - basic statistics, moving statistics (running average)\n",
    "# - use case: list of FX transactions"
   ]
  },
  {
   "cell_type": "code",
   "execution_count": 218,
   "id": "e936d377",
   "metadata": {},
   "outputs": [],
   "source": [
    "import numpy as np\n",
    "import matplotlib.pyplot as plt"
   ]
  },
  {
   "cell_type": "code",
   "execution_count": 219,
   "id": "d1771f20",
   "metadata": {},
   "outputs": [
    {
     "data": {
      "text/plain": [
       "<matplotlib.legend.Legend at 0x7f9d2489bb20>"
      ]
     },
     "execution_count": 219,
     "metadata": {},
     "output_type": "execute_result"
    },
    {
     "data": {
      "image/png": "[encoded data removed]",
      "text/plain": [
       "<Figure size 432x288 with 2 Axes>"
      ]
     },
     "metadata": {
      "needs_background": "light"
     },
     "output_type": "display_data"
    }
   ],
   "source": [
    "fig = plt.figure()\n",
    "# line plot\n",
    "x = np.linspace(0, 1, 20)\n",
    "y = x**2\n",
    "plt.plot(x, y, label='plot1')\n",
    "plt.xlabel('x')\n",
    "plt.ylabel('y')\n",
    "plt.title('figure 1')\n",
    " \n",
    "# scatter plot\n",
    "n = 100\n",
    "x1 = np.random.rand(n)\n",
    "x2 = x1**2 + 0.2* np.random.normal(size=n)\n",
    "x3 = x1**2 - x1*x2\n",
    "plt.scatter(x1, x2, c=x3, cmap='brg', label='plot2')\n",
    "plt.colorbar()\n",
    "plt.legend()"
   ]
  },
  {
   "cell_type": "code",
   "execution_count": 220,
   "id": "b1179f1f",
   "metadata": {},
   "outputs": [
    {
     "data": {
      "text/plain": [
       "<matplotlib.collections.PathCollection at 0x7f9d20b055e0>"
      ]
     },
     "execution_count": 220,
     "metadata": {},
     "output_type": "execute_result"
    },
    {
     "data": {
      "image/png": "[encoded data removed]",
      "text/plain": [
       "<Figure size 1296x360 with 2 Axes>"
      ]
     },
     "metadata": {
      "needs_background": "light"
     },
     "output_type": "display_data"
    }
   ],
   "source": [
    "fig2 = plt.figure(figsize=(18,5))\n",
    "plt.subplot(1, 2, 1)\n",
    "plt.plot(x, y, label='plot1')\n",
    "plt.subplot(1, 2, 2)\n",
    "plt.scatter(x1, x2, c=x3, cmap='brg', label='plot2')"
   ]
  },
  {
   "cell_type": "code",
   "execution_count": 221,
   "id": "98efde28",
   "metadata": {},
   "outputs": [
    {
     "data": {
      "text/plain": [
       "array([[-1.,  0.,  1.],\n",
       "       [-1.,  0.,  1.],\n",
       "       [-1.,  0.,  1.],\n",
       "       [-1.,  0.,  1.]])"
      ]
     },
     "execution_count": 221,
     "metadata": {},
     "output_type": "execute_result"
    }
   ],
   "source": [
    "x = np.linspace(-1, 1, 3) # [-1, 0, 1]\n",
    "y = np.linspace(11, 14, 4) # [11, 12, 13, 14]\n",
    "X, Y = np.meshgrid(x, y) # returns two 2D grids\n",
    "X"
   ]
  },
  {
   "cell_type": "code",
   "execution_count": 222,
   "id": "9fb2cf89",
   "metadata": {},
   "outputs": [
    {
     "data": {
      "text/plain": [
       "array([[11., 11., 11.],\n",
       "       [12., 12., 12.],\n",
       "       [13., 13., 13.],\n",
       "       [14., 14., 14.]])"
      ]
     },
     "execution_count": 222,
     "metadata": {},
     "output_type": "execute_result"
    }
   ],
   "source": [
    "Y"
   ]
  },
  {
   "cell_type": "code",
   "execution_count": 223,
   "id": "1ad82b2a",
   "metadata": {},
   "outputs": [
    {
     "data": {
      "text/plain": [
       "<mpl_toolkits.mplot3d.art3d.Poly3DCollection at 0x7f9d23beb9d0>"
      ]
     },
     "execution_count": 223,
     "metadata": {},
     "output_type": "execute_result"
    },
    {
     "data": {
      "image/png": "[encoded data removed]",
      "text/plain": [
       "<Figure size 1296x360 with 1 Axes>"
      ]
     },
     "metadata": {
      "needs_background": "light"
     },
     "output_type": "display_data"
    }
   ],
   "source": [
    "fig3 = plt.figure(figsize=(18,5))\n",
    "ax = fig3.add_subplot(projection='3d')\n",
    "x = np.linspace(-1, 1, 20)\n",
    "y = np.linspace(-1, 1, 20)\n",
    "X, Y = np.meshgrid(x, y)\n",
    "Z = 3*X**2 + Y**2\n",
    "ax.plot_surface(X, Y, Z, cmap='jet')"
   ]
  },
  {
   "cell_type": "code",
   "execution_count": 224,
   "id": "bfb02ef9",
   "metadata": {},
   "outputs": [],
   "source": [
    "fig.savefig('plot1.png')"
   ]
  },
  {
   "cell_type": "code",
   "execution_count": 225,
   "id": "24eeafd1",
   "metadata": {},
   "outputs": [],
   "source": [
    "import pandas as pd"
   ]
  },
  {
   "cell_type": "code",
   "execution_count": 226,
   "id": "9bb49264",
   "metadata": {},
   "outputs": [
    {
     "data": {
      "text/plain": [
       "2022-02-25    10\n",
       "2022-02-26    11\n",
       "2022-02-27    12\n",
       "2022-02-28    13\n",
       "2022-03-01    14\n",
       "Freq: D, Name: my series, dtype: int64"
      ]
     },
     "execution_count": 226,
     "metadata": {},
     "output_type": "execute_result"
    }
   ],
   "source": [
    "# pandas - built on top of numpy\n",
    "# Series: 1D array\n",
    "a = np.arange(10, 15)\n",
    "s = pd.Series(a, name='my series')\n",
    "s.index = pd.date_range('2022/02/25', periods=5)\n",
    "s #, s.name"
   ]
  },
  {
   "cell_type": "code",
   "execution_count": 227,
   "id": "3258a8b1",
   "metadata": {},
   "outputs": [
    {
     "data": {
      "text/plain": [
       "(12, 12)"
      ]
     },
     "execution_count": 227,
     "metadata": {},
     "output_type": "execute_result"
    }
   ],
   "source": [
    "# access data in seroes\n",
    "# numpy: s[0]\n",
    "s.loc['2022-02-27'], s.iloc[2]"
   ]
  },
  {
   "cell_type": "code",
   "execution_count": 228,
   "id": "f1c142cd",
   "metadata": {},
   "outputs": [
    {
     "data": {
      "text/plain": [
       "2022-02-25    10\n",
       "2022-02-26    11\n",
       "2022-02-27    12\n",
       "2022-02-28    13\n",
       "Freq: D, Name: my series, dtype: int64"
      ]
     },
     "execution_count": 228,
     "metadata": {},
     "output_type": "execute_result"
    }
   ],
   "source": [
    "# slicing by year or month\n",
    "s.loc['2022-02']"
   ]
  },
  {
   "cell_type": "code",
   "execution_count": 229,
   "id": "f62de6d1",
   "metadata": {},
   "outputs": [
    {
     "data": {
      "text/html": [
       "<div>\n",
       "<style scoped>\n",
       "    .dataframe tbody tr th:only-of-type {\n",
       "        vertical-align: middle;\n",
       "    }\n",
       "\n",
       "    .dataframe tbody tr th {\n",
       "        vertical-align: top;\n",
       "    }\n",
       "\n",
       "    .dataframe thead th {\n",
       "        text-align: right;\n",
       "    }\n",
       "</style>\n",
       "<table border=\"1\" class=\"dataframe\">\n",
       "  <thead>\n",
       "    <tr style=\"text-align: right;\">\n",
       "      <th></th>\n",
       "      <th>Open</th>\n",
       "      <th>Close</th>\n",
       "    </tr>\n",
       "  </thead>\n",
       "  <tbody>\n",
       "    <tr>\n",
       "      <th>a</th>\n",
       "      <td>13</td>\n",
       "      <td>15</td>\n",
       "    </tr>\n",
       "    <tr>\n",
       "      <th>b</th>\n",
       "      <td>14</td>\n",
       "      <td>19</td>\n",
       "    </tr>\n",
       "    <tr>\n",
       "      <th>c</th>\n",
       "      <td>12</td>\n",
       "      <td>11</td>\n",
       "    </tr>\n",
       "  </tbody>\n",
       "</table>\n",
       "</div>"
      ],
      "text/plain": [
       "   Open  Close\n",
       "a    13     15\n",
       "b    14     19\n",
       "c    12     11"
      ]
     },
     "execution_count": 229,
     "metadata": {},
     "output_type": "execute_result"
    }
   ],
   "source": [
    "# dataframe - 2D array\n",
    "row_labels = ['a', 'b', 'c']\n",
    "col_labels = ['Open', 'Close']\n",
    "x = np.random.randint(10, 20, size=(3, 2))\n",
    "df = pd.DataFrame(data=x, index=row_labels, columns=col_labels)\n",
    "df"
   ]
  },
  {
   "cell_type": "code",
   "execution_count": 230,
   "id": "d6a0d6eb",
   "metadata": {},
   "outputs": [
    {
     "data": {
      "text/plain": [
       "(11, 19)"
      ]
     },
     "execution_count": 230,
     "metadata": {},
     "output_type": "execute_result"
    }
   ],
   "source": [
    "# data selection by label, position\n",
    "df.loc['c', 'Close'], df.iloc[1,1]"
   ]
  },
  {
   "cell_type": "code",
   "execution_count": 231,
   "id": "e03db7dc",
   "metadata": {},
   "outputs": [
    {
     "data": {
      "text/plain": [
       "a    15\n",
       "b    19\n",
       "c    11\n",
       "Name: Close, dtype: int64"
      ]
     },
     "execution_count": 231,
     "metadata": {},
     "output_type": "execute_result"
    }
   ],
   "source": [
    "# select column\n",
    "df['Close']"
   ]
  },
  {
   "cell_type": "code",
   "execution_count": 232,
   "id": "0cdd7cac",
   "metadata": {},
   "outputs": [
    {
     "data": {
      "text/plain": [
       "Open     14\n",
       "Close    19\n",
       "Name: b, dtype: int64"
      ]
     },
     "execution_count": 232,
     "metadata": {},
     "output_type": "execute_result"
    }
   ],
   "source": [
    "# select row\n",
    "df.loc['b']"
   ]
  },
  {
   "cell_type": "code",
   "execution_count": 233,
   "id": "7d57931b",
   "metadata": {},
   "outputs": [
    {
     "data": {
      "text/html": [
       "<div>\n",
       "<style scoped>\n",
       "    .dataframe tbody tr th:only-of-type {\n",
       "        vertical-align: middle;\n",
       "    }\n",
       "\n",
       "    .dataframe tbody tr th {\n",
       "        vertical-align: top;\n",
       "    }\n",
       "\n",
       "    .dataframe thead th {\n",
       "        text-align: right;\n",
       "    }\n",
       "</style>\n",
       "<table border=\"1\" class=\"dataframe\">\n",
       "  <thead>\n",
       "    <tr style=\"text-align: right;\">\n",
       "      <th></th>\n",
       "      <th>Open</th>\n",
       "      <th>Close</th>\n",
       "      <th>change</th>\n",
       "    </tr>\n",
       "  </thead>\n",
       "  <tbody>\n",
       "    <tr>\n",
       "      <th>a</th>\n",
       "      <td>13</td>\n",
       "      <td>15</td>\n",
       "      <td>2</td>\n",
       "    </tr>\n",
       "    <tr>\n",
       "      <th>b</th>\n",
       "      <td>14</td>\n",
       "      <td>19</td>\n",
       "      <td>5</td>\n",
       "    </tr>\n",
       "    <tr>\n",
       "      <th>c</th>\n",
       "      <td>12</td>\n",
       "      <td>11</td>\n",
       "      <td>-1</td>\n",
       "    </tr>\n",
       "  </tbody>\n",
       "</table>\n",
       "</div>"
      ],
      "text/plain": [
       "   Open  Close  change\n",
       "a    13     15       2\n",
       "b    14     19       5\n",
       "c    12     11      -1"
      ]
     },
     "execution_count": 233,
     "metadata": {},
     "output_type": "execute_result"
    }
   ],
   "source": [
    "# derive data from existing data\n",
    "df['change'] = df['Close'] - df['Open']\n",
    "df"
   ]
  },
  {
   "cell_type": "code",
   "execution_count": 234,
   "id": "7670d86b",
   "metadata": {},
   "outputs": [
    {
     "data": {
      "text/html": [
       "<div>\n",
       "<style scoped>\n",
       "    .dataframe tbody tr th:only-of-type {\n",
       "        vertical-align: middle;\n",
       "    }\n",
       "\n",
       "    .dataframe tbody tr th {\n",
       "        vertical-align: top;\n",
       "    }\n",
       "\n",
       "    .dataframe thead th {\n",
       "        text-align: right;\n",
       "    }\n",
       "</style>\n",
       "<table border=\"1\" class=\"dataframe\">\n",
       "  <thead>\n",
       "    <tr style=\"text-align: right;\">\n",
       "      <th></th>\n",
       "      <th>Open</th>\n",
       "      <th>Close</th>\n",
       "      <th>change</th>\n",
       "    </tr>\n",
       "  </thead>\n",
       "  <tbody>\n",
       "    <tr>\n",
       "      <th>a</th>\n",
       "      <td>13</td>\n",
       "      <td>15</td>\n",
       "      <td>2</td>\n",
       "    </tr>\n",
       "    <tr>\n",
       "      <th>b</th>\n",
       "      <td>14</td>\n",
       "      <td>19</td>\n",
       "      <td>5</td>\n",
       "    </tr>\n",
       "    <tr>\n",
       "      <th>c</th>\n",
       "      <td>12</td>\n",
       "      <td>11</td>\n",
       "      <td>-1</td>\n",
       "    </tr>\n",
       "    <tr>\n",
       "      <th>a+b</th>\n",
       "      <td>27</td>\n",
       "      <td>34</td>\n",
       "      <td>7</td>\n",
       "    </tr>\n",
       "  </tbody>\n",
       "</table>\n",
       "</div>"
      ],
      "text/plain": [
       "     Open  Close  change\n",
       "a      13     15       2\n",
       "b      14     19       5\n",
       "c      12     11      -1\n",
       "a+b    27     34       7"
      ]
     },
     "execution_count": 234,
     "metadata": {},
     "output_type": "execute_result"
    }
   ],
   "source": [
    "# insert new rows\n",
    "df.loc['a+b'] = df.loc['a'] + df.loc['b']\n",
    "df"
   ]
  },
  {
   "cell_type": "code",
   "execution_count": 235,
   "id": "4e84a40f",
   "metadata": {},
   "outputs": [
    {
     "data": {
      "text/html": [
       "<div>\n",
       "<style scoped>\n",
       "    .dataframe tbody tr th:only-of-type {\n",
       "        vertical-align: middle;\n",
       "    }\n",
       "\n",
       "    .dataframe tbody tr th {\n",
       "        vertical-align: top;\n",
       "    }\n",
       "\n",
       "    .dataframe thead th {\n",
       "        text-align: right;\n",
       "    }\n",
       "</style>\n",
       "<table border=\"1\" class=\"dataframe\">\n",
       "  <thead>\n",
       "    <tr style=\"text-align: right;\">\n",
       "      <th></th>\n",
       "      <th>Open</th>\n",
       "      <th>Close</th>\n",
       "      <th>change</th>\n",
       "    </tr>\n",
       "  </thead>\n",
       "  <tbody>\n",
       "    <tr>\n",
       "      <th>a</th>\n",
       "      <td>13</td>\n",
       "      <td>15</td>\n",
       "      <td>2</td>\n",
       "    </tr>\n",
       "    <tr>\n",
       "      <th>b</th>\n",
       "      <td>14</td>\n",
       "      <td>19</td>\n",
       "      <td>5</td>\n",
       "    </tr>\n",
       "    <tr>\n",
       "      <th>c</th>\n",
       "      <td>12</td>\n",
       "      <td>11</td>\n",
       "      <td>-1</td>\n",
       "    </tr>\n",
       "  </tbody>\n",
       "</table>\n",
       "</div>"
      ],
      "text/plain": [
       "   Open  Close  change\n",
       "a    13     15       2\n",
       "b    14     19       5\n",
       "c    12     11      -1"
      ]
     },
     "execution_count": 235,
     "metadata": {},
     "output_type": "execute_result"
    }
   ],
   "source": [
    "# drop rows or columns\n",
    "df1 = df.drop('a+b') #, axis=0) # returns a new dataframe\n",
    "df1"
   ]
  },
  {
   "cell_type": "code",
   "execution_count": 237,
   "id": "026d5824",
   "metadata": {},
   "outputs": [
    {
     "data": {
      "text/html": [
       "<div>\n",
       "<style scoped>\n",
       "    .dataframe tbody tr th:only-of-type {\n",
       "        vertical-align: middle;\n",
       "    }\n",
       "\n",
       "    .dataframe tbody tr th {\n",
       "        vertical-align: top;\n",
       "    }\n",
       "\n",
       "    .dataframe thead th {\n",
       "        text-align: right;\n",
       "    }\n",
       "</style>\n",
       "<table border=\"1\" class=\"dataframe\">\n",
       "  <thead>\n",
       "    <tr style=\"text-align: right;\">\n",
       "      <th></th>\n",
       "      <th>Open</th>\n",
       "      <th>Close</th>\n",
       "      <th>change</th>\n",
       "    </tr>\n",
       "  </thead>\n",
       "  <tbody>\n",
       "    <tr>\n",
       "      <th>a</th>\n",
       "      <td>13</td>\n",
       "      <td>15</td>\n",
       "      <td>2</td>\n",
       "    </tr>\n",
       "    <tr>\n",
       "      <th>b</th>\n",
       "      <td>14</td>\n",
       "      <td>19</td>\n",
       "      <td>5</td>\n",
       "    </tr>\n",
       "    <tr>\n",
       "      <th>c</th>\n",
       "      <td>12</td>\n",
       "      <td>11</td>\n",
       "      <td>-1</td>\n",
       "    </tr>\n",
       "    <tr>\n",
       "      <th>a+b</th>\n",
       "      <td>27</td>\n",
       "      <td>34</td>\n",
       "      <td>7</td>\n",
       "    </tr>\n",
       "  </tbody>\n",
       "</table>\n",
       "</div>"
      ],
      "text/plain": [
       "     Open  Close  change\n",
       "a      13     15       2\n",
       "b      14     19       5\n",
       "c      12     11      -1\n",
       "a+b    27     34       7"
      ]
     },
     "execution_count": 237,
     "metadata": {},
     "output_type": "execute_result"
    }
   ],
   "source": [
    "# insert column: df.insert\n",
    "df"
   ]
  },
  {
   "cell_type": "code",
   "execution_count": 238,
   "id": "00654419",
   "metadata": {},
   "outputs": [
    {
     "data": {
      "text/html": [
       "<div>\n",
       "<style scoped>\n",
       "    .dataframe tbody tr th:only-of-type {\n",
       "        vertical-align: middle;\n",
       "    }\n",
       "\n",
       "    .dataframe tbody tr th {\n",
       "        vertical-align: top;\n",
       "    }\n",
       "\n",
       "    .dataframe thead th {\n",
       "        text-align: right;\n",
       "    }\n",
       "</style>\n",
       "<table border=\"1\" class=\"dataframe\">\n",
       "  <thead>\n",
       "    <tr style=\"text-align: right;\">\n",
       "      <th></th>\n",
       "      <th>Open</th>\n",
       "      <th>Close</th>\n",
       "      <th>change</th>\n",
       "    </tr>\n",
       "  </thead>\n",
       "  <tbody>\n",
       "    <tr>\n",
       "      <th>a</th>\n",
       "      <td>13</td>\n",
       "      <td>15</td>\n",
       "      <td>2</td>\n",
       "    </tr>\n",
       "    <tr>\n",
       "      <th>b</th>\n",
       "      <td>14</td>\n",
       "      <td>19</td>\n",
       "      <td>5</td>\n",
       "    </tr>\n",
       "    <tr>\n",
       "      <th>a+b</th>\n",
       "      <td>27</td>\n",
       "      <td>34</td>\n",
       "      <td>7</td>\n",
       "    </tr>\n",
       "  </tbody>\n",
       "</table>\n",
       "</div>"
      ],
      "text/plain": [
       "     Open  Close  change\n",
       "a      13     15       2\n",
       "b      14     19       5\n",
       "a+b    27     34       7"
      ]
     },
     "execution_count": 238,
     "metadata": {},
     "output_type": "execute_result"
    }
   ],
   "source": [
    "# query by criteria\n",
    "df.query('change > 0')\n",
    "df.query('Open > 10 and change/Open > 0.1')"
   ]
  },
  {
   "cell_type": "code",
   "execution_count": 239,
   "id": "e7639cf7",
   "metadata": {},
   "outputs": [
    {
     "data": {
      "text/html": [
       "<div>\n",
       "<style scoped>\n",
       "    .dataframe tbody tr th:only-of-type {\n",
       "        vertical-align: middle;\n",
       "    }\n",
       "\n",
       "    .dataframe tbody tr th {\n",
       "        vertical-align: top;\n",
       "    }\n",
       "\n",
       "    .dataframe thead th {\n",
       "        text-align: right;\n",
       "    }\n",
       "</style>\n",
       "<table border=\"1\" class=\"dataframe\">\n",
       "  <thead>\n",
       "    <tr style=\"text-align: right;\">\n",
       "      <th></th>\n",
       "      <th>Open</th>\n",
       "      <th>Close</th>\n",
       "      <th>change</th>\n",
       "    </tr>\n",
       "  </thead>\n",
       "  <tbody>\n",
       "    <tr>\n",
       "      <th>count</th>\n",
       "      <td>4.000000</td>\n",
       "      <td>4.000000</td>\n",
       "      <td>4.00</td>\n",
       "    </tr>\n",
       "    <tr>\n",
       "      <th>mean</th>\n",
       "      <td>16.500000</td>\n",
       "      <td>19.750000</td>\n",
       "      <td>3.25</td>\n",
       "    </tr>\n",
       "    <tr>\n",
       "      <th>std</th>\n",
       "      <td>7.047458</td>\n",
       "      <td>10.045729</td>\n",
       "      <td>3.50</td>\n",
       "    </tr>\n",
       "    <tr>\n",
       "      <th>min</th>\n",
       "      <td>12.000000</td>\n",
       "      <td>11.000000</td>\n",
       "      <td>-1.00</td>\n",
       "    </tr>\n",
       "    <tr>\n",
       "      <th>25%</th>\n",
       "      <td>12.750000</td>\n",
       "      <td>14.000000</td>\n",
       "      <td>1.25</td>\n",
       "    </tr>\n",
       "    <tr>\n",
       "      <th>50%</th>\n",
       "      <td>13.500000</td>\n",
       "      <td>17.000000</td>\n",
       "      <td>3.50</td>\n",
       "    </tr>\n",
       "    <tr>\n",
       "      <th>75%</th>\n",
       "      <td>17.250000</td>\n",
       "      <td>22.750000</td>\n",
       "      <td>5.50</td>\n",
       "    </tr>\n",
       "    <tr>\n",
       "      <th>max</th>\n",
       "      <td>27.000000</td>\n",
       "      <td>34.000000</td>\n",
       "      <td>7.00</td>\n",
       "    </tr>\n",
       "  </tbody>\n",
       "</table>\n",
       "</div>"
      ],
      "text/plain": [
       "            Open      Close  change\n",
       "count   4.000000   4.000000    4.00\n",
       "mean   16.500000  19.750000    3.25\n",
       "std     7.047458  10.045729    3.50\n",
       "min    12.000000  11.000000   -1.00\n",
       "25%    12.750000  14.000000    1.25\n",
       "50%    13.500000  17.000000    3.50\n",
       "75%    17.250000  22.750000    5.50\n",
       "max    27.000000  34.000000    7.00"
      ]
     },
     "execution_count": 239,
     "metadata": {},
     "output_type": "execute_result"
    }
   ],
   "source": [
    "# basic statistic\n",
    "df.mean()\n",
    "df.describe()"
   ]
  },
  {
   "cell_type": "code",
   "execution_count": 240,
   "id": "222ac576",
   "metadata": {},
   "outputs": [
    {
     "data": {
      "text/plain": [
       "Open      23.1\n",
       "Close     29.5\n",
       "change     6.4\n",
       "Name: 0.9, dtype: float64"
      ]
     },
     "execution_count": 240,
     "metadata": {},
     "output_type": "execute_result"
    }
   ],
   "source": [
    "df.quantile(0.9)"
   ]
  },
  {
   "cell_type": "code",
   "execution_count": 241,
   "id": "c92a1181",
   "metadata": {},
   "outputs": [
    {
     "data": {
      "text/html": [
       "<div>\n",
       "<style scoped>\n",
       "    .dataframe tbody tr th:only-of-type {\n",
       "        vertical-align: middle;\n",
       "    }\n",
       "\n",
       "    .dataframe tbody tr th {\n",
       "        vertical-align: top;\n",
       "    }\n",
       "\n",
       "    .dataframe thead th {\n",
       "        text-align: right;\n",
       "    }\n",
       "</style>\n",
       "<table border=\"1\" class=\"dataframe\">\n",
       "  <thead>\n",
       "    <tr style=\"text-align: right;\">\n",
       "      <th></th>\n",
       "      <th>Open</th>\n",
       "      <th>Close</th>\n",
       "      <th>change</th>\n",
       "    </tr>\n",
       "  </thead>\n",
       "  <tbody>\n",
       "    <tr>\n",
       "      <th>a</th>\n",
       "      <td>14.0</td>\n",
       "      <td>15.0</td>\n",
       "      <td>2</td>\n",
       "    </tr>\n",
       "    <tr>\n",
       "      <th>b</th>\n",
       "      <td>14.0</td>\n",
       "      <td>19.0</td>\n",
       "      <td>5</td>\n",
       "    </tr>\n",
       "    <tr>\n",
       "      <th>c</th>\n",
       "      <td>12.0</td>\n",
       "      <td>19.0</td>\n",
       "      <td>-1</td>\n",
       "    </tr>\n",
       "    <tr>\n",
       "      <th>a+b</th>\n",
       "      <td>27.0</td>\n",
       "      <td>34.0</td>\n",
       "      <td>7</td>\n",
       "    </tr>\n",
       "  </tbody>\n",
       "</table>\n",
       "</div>"
      ],
      "text/plain": [
       "     Open  Close  change\n",
       "a    14.0   15.0       2\n",
       "b    14.0   19.0       5\n",
       "c    12.0   19.0      -1\n",
       "a+b  27.0   34.0       7"
      ]
     },
     "execution_count": 241,
     "metadata": {},
     "output_type": "execute_result"
    }
   ],
   "source": [
    "# fill missing values\n",
    "df.loc['c', 'Close'] = np.nan\n",
    "df.loc['a', 'Open'] = np.nan\n",
    "df2 = df.fillna(method='ffill') # forward fill, back fill, # return a new dataframe\n",
    "df2 = df2.fillna(method='bfill')\n",
    "df2"
   ]
  },
  {
   "cell_type": "code",
   "execution_count": 243,
   "id": "936c4a69",
   "metadata": {},
   "outputs": [],
   "source": [
    "fileloc = '/Users/lanjenny/Downloads/fx_trades.csv'\n",
    "d = pd.read_csv(fileloc)"
   ]
  },
  {
   "cell_type": "code",
   "execution_count": 244,
   "id": "11146ee7",
   "metadata": {},
   "outputs": [
    {
     "data": {
      "text/html": [
       "<div>\n",
       "<style scoped>\n",
       "    .dataframe tbody tr th:only-of-type {\n",
       "        vertical-align: middle;\n",
       "    }\n",
       "\n",
       "    .dataframe tbody tr th {\n",
       "        vertical-align: top;\n",
       "    }\n",
       "\n",
       "    .dataframe thead th {\n",
       "        text-align: right;\n",
       "    }\n",
       "</style>\n",
       "<table border=\"1\" class=\"dataframe\">\n",
       "  <thead>\n",
       "    <tr style=\"text-align: right;\">\n",
       "      <th></th>\n",
       "      <th>TradeID</th>\n",
       "      <th>Type</th>\n",
       "      <th>Date</th>\n",
       "      <th>Ccy</th>\n",
       "      <th>Amt</th>\n",
       "    </tr>\n",
       "  </thead>\n",
       "  <tbody>\n",
       "    <tr>\n",
       "      <th>0</th>\n",
       "      <td>FX200171</td>\n",
       "      <td>Spot</td>\n",
       "      <td>2/16/2021</td>\n",
       "      <td>EUR</td>\n",
       "      <td>1000000</td>\n",
       "    </tr>\n",
       "    <tr>\n",
       "      <th>1</th>\n",
       "      <td>FX200171</td>\n",
       "      <td>Spot</td>\n",
       "      <td>2/16/2021</td>\n",
       "      <td>USD</td>\n",
       "      <td>-1100000</td>\n",
       "    </tr>\n",
       "    <tr>\n",
       "      <th>2</th>\n",
       "      <td>FX200172</td>\n",
       "      <td>Spot</td>\n",
       "      <td>2/16/2021</td>\n",
       "      <td>GBP</td>\n",
       "      <td>-1000000</td>\n",
       "    </tr>\n",
       "  </tbody>\n",
       "</table>\n",
       "</div>"
      ],
      "text/plain": [
       "    TradeID  Type       Date  Ccy      Amt\n",
       "0  FX200171  Spot  2/16/2021  EUR  1000000\n",
       "1  FX200171  Spot  2/16/2021  USD -1100000\n",
       "2  FX200172  Spot  2/16/2021  GBP -1000000"
      ]
     },
     "execution_count": 244,
     "metadata": {},
     "output_type": "execute_result"
    }
   ],
   "source": [
    "d.head(3) # tail()"
   ]
  },
  {
   "cell_type": "code",
   "execution_count": 245,
   "id": "cc9ac404",
   "metadata": {},
   "outputs": [],
   "source": [
    "g1 = d.groupby(['Ccy']) # holder of info about how to do grouping, reference to orig"
   ]
  },
  {
   "cell_type": "code",
   "execution_count": 246,
   "id": "04100db0",
   "metadata": {},
   "outputs": [
    {
     "data": {
      "text/html": [
       "<div>\n",
       "<style scoped>\n",
       "    .dataframe tbody tr th:only-of-type {\n",
       "        vertical-align: middle;\n",
       "    }\n",
       "\n",
       "    .dataframe tbody tr th {\n",
       "        vertical-align: top;\n",
       "    }\n",
       "\n",
       "    .dataframe thead th {\n",
       "        text-align: right;\n",
       "    }\n",
       "</style>\n",
       "<table border=\"1\" class=\"dataframe\">\n",
       "  <thead>\n",
       "    <tr style=\"text-align: right;\">\n",
       "      <th></th>\n",
       "      <th>TradeID</th>\n",
       "      <th>Type</th>\n",
       "      <th>Date</th>\n",
       "      <th>Ccy</th>\n",
       "      <th>Amt</th>\n",
       "    </tr>\n",
       "  </thead>\n",
       "  <tbody>\n",
       "    <tr>\n",
       "      <th>0</th>\n",
       "      <td>FX200171</td>\n",
       "      <td>Spot</td>\n",
       "      <td>2/16/2021</td>\n",
       "      <td>EUR</td>\n",
       "      <td>1000000</td>\n",
       "    </tr>\n",
       "    <tr>\n",
       "      <th>3</th>\n",
       "      <td>FX200172</td>\n",
       "      <td>Spot</td>\n",
       "      <td>2/16/2021</td>\n",
       "      <td>EUR</td>\n",
       "      <td>1180000</td>\n",
       "    </tr>\n",
       "    <tr>\n",
       "      <th>8</th>\n",
       "      <td>FX200175</td>\n",
       "      <td>NDF</td>\n",
       "      <td>4/16/2021</td>\n",
       "      <td>EUR</td>\n",
       "      <td>-200000</td>\n",
       "    </tr>\n",
       "    <tr>\n",
       "      <th>15</th>\n",
       "      <td>FX200178</td>\n",
       "      <td>Forward</td>\n",
       "      <td>5/16/2021</td>\n",
       "      <td>EUR</td>\n",
       "      <td>-1170000</td>\n",
       "    </tr>\n",
       "    <tr>\n",
       "      <th>16</th>\n",
       "      <td>FX200179</td>\n",
       "      <td>Forward</td>\n",
       "      <td>5/16/2021</td>\n",
       "      <td>EUR</td>\n",
       "      <td>-1000000</td>\n",
       "    </tr>\n",
       "  </tbody>\n",
       "</table>\n",
       "</div>"
      ],
      "text/plain": [
       "     TradeID     Type       Date  Ccy      Amt\n",
       "0   FX200171     Spot  2/16/2021  EUR  1000000\n",
       "3   FX200172     Spot  2/16/2021  EUR  1180000\n",
       "8   FX200175      NDF  4/16/2021  EUR  -200000\n",
       "15  FX200178  Forward  5/16/2021  EUR -1170000\n",
       "16  FX200179  Forward  5/16/2021  EUR -1000000"
      ]
     },
     "execution_count": 246,
     "metadata": {},
     "output_type": "execute_result"
    }
   ],
   "source": [
    "g1.get_group('EUR')"
   ]
  },
  {
   "cell_type": "code",
   "execution_count": 247,
   "id": "f7c83954",
   "metadata": {},
   "outputs": [
    {
     "data": {
      "text/plain": [
       "{'BRL': [7, 9], 'CAD': [11], 'EUR': [0, 3, 8, 15, 16], 'GBP': [2, 4, 12, 14], 'USD': [1, 5, 6, 10, 13, 17]}"
      ]
     },
     "execution_count": 247,
     "metadata": {},
     "output_type": "execute_result"
    }
   ],
   "source": [
    "g1.groups"
   ]
  },
  {
   "cell_type": "code",
   "execution_count": 248,
   "id": "79d2f56b",
   "metadata": {},
   "outputs": [
    {
     "data": {
      "text/html": [
       "<div>\n",
       "<style scoped>\n",
       "    .dataframe tbody tr th:only-of-type {\n",
       "        vertical-align: middle;\n",
       "    }\n",
       "\n",
       "    .dataframe tbody tr th {\n",
       "        vertical-align: top;\n",
       "    }\n",
       "\n",
       "    .dataframe thead th {\n",
       "        text-align: right;\n",
       "    }\n",
       "</style>\n",
       "<table border=\"1\" class=\"dataframe\">\n",
       "  <thead>\n",
       "    <tr style=\"text-align: right;\">\n",
       "      <th></th>\n",
       "      <th>Amt</th>\n",
       "    </tr>\n",
       "    <tr>\n",
       "      <th>Ccy</th>\n",
       "      <th></th>\n",
       "    </tr>\n",
       "  </thead>\n",
       "  <tbody>\n",
       "    <tr>\n",
       "      <th>BRL</th>\n",
       "      <td>-349000</td>\n",
       "    </tr>\n",
       "    <tr>\n",
       "      <th>CAD</th>\n",
       "      <td>6750000</td>\n",
       "    </tr>\n",
       "    <tr>\n",
       "      <th>EUR</th>\n",
       "      <td>-190000</td>\n",
       "    </tr>\n",
       "    <tr>\n",
       "      <th>GBP</th>\n",
       "      <td>0</td>\n",
       "    </tr>\n",
       "    <tr>\n",
       "      <th>USD</th>\n",
       "      <td>-4660000</td>\n",
       "    </tr>\n",
       "  </tbody>\n",
       "</table>\n",
       "</div>"
      ],
      "text/plain": [
       "         Amt\n",
       "Ccy         \n",
       "BRL  -349000\n",
       "CAD  6750000\n",
       "EUR  -190000\n",
       "GBP        0\n",
       "USD -4660000"
      ]
     },
     "execution_count": 248,
     "metadata": {},
     "output_type": "execute_result"
    }
   ],
   "source": [
    "g1.sum()"
   ]
  },
  {
   "cell_type": "code",
   "execution_count": 249,
   "id": "abffca74",
   "metadata": {},
   "outputs": [],
   "source": [
    "g2 = d.groupby(['Ccy','Date'])\n",
    "s = g2.sum() # aggregation of cashflows by ccy by date, return a dataframe"
   ]
  },
  {
   "cell_type": "code",
   "execution_count": 250,
   "id": "be226134",
   "metadata": {},
   "outputs": [
    {
     "data": {
      "text/plain": [
       "Amt   -2170000\n",
       "Name: (EUR, 5/16/2021), dtype: int64"
      ]
     },
     "execution_count": 250,
     "metadata": {},
     "output_type": "execute_result"
    }
   ],
   "source": [
    "s.loc['EUR','5/16/2021']"
   ]
  },
  {
   "cell_type": "code",
   "execution_count": 251,
   "id": "12cb00c4",
   "metadata": {},
   "outputs": [],
   "source": [
    "s.to_csv('summed.csv')"
   ]
  },
  {
   "cell_type": "code",
   "execution_count": 252,
   "id": "b2a4f007",
   "metadata": {},
   "outputs": [
    {
     "data": {
      "text/plain": [
       "{('BRL', '4/16/2021'): [7, 9], ('CAD', '5/16/2021'): [11], ('EUR', '2/16/2021'): [0, 3], ('EUR', '4/16/2021'): [8], ('EUR', '5/16/2021'): [15, 16], ('GBP', '2/16/2021'): [2], ('GBP', '3/16/2021'): [4], ('GBP', '5/16/2021'): [12, 14], ('USD', '2/16/2021'): [1], ('USD', '3/16/2021'): [5], ('USD', '4/16/2021'): [6], ('USD', '5/16/2021'): [10, 13, 17]}"
      ]
     },
     "execution_count": 252,
     "metadata": {},
     "output_type": "execute_result"
    }
   ],
   "source": [
    "g2.groups"
   ]
  },
  {
   "cell_type": "markdown",
   "id": "0ba75299",
   "metadata": {},
   "source": [
    "### 3.4 Class7 Volatility forcast"
   ]
  },
  {
   "cell_type": "code",
   "execution_count": 2,
   "id": "839d321f",
   "metadata": {},
   "outputs": [],
   "source": [
    "import pandas as pd\n",
    "import numpy as np\n",
    "import pandas_datareader.data as web #这是啥packages?"
   ]
  },
  {
   "cell_type": "code",
   "execution_count": 4,
   "id": "eebe3a82",
   "metadata": {},
   "outputs": [],
   "source": [
    "d = web.DataReader(name='GOOGL',data_source='yahoo', \n",
    "               start = '2021-06-04',\n",
    "               end = '2022-03-04')"
   ]
  },
  {
   "cell_type": "code",
   "execution_count": 5,
   "id": "13adbbc2",
   "metadata": {},
   "outputs": [
    {
     "data": {
      "text/html": [
       "<div>\n",
       "<style scoped>\n",
       "    .dataframe tbody tr th:only-of-type {\n",
       "        vertical-align: middle;\n",
       "    }\n",
       "\n",
       "    .dataframe tbody tr th {\n",
       "        vertical-align: top;\n",
       "    }\n",
       "\n",
       "    .dataframe thead th {\n",
       "        text-align: right;\n",
       "    }\n",
       "</style>\n",
       "<table border=\"1\" class=\"dataframe\">\n",
       "  <thead>\n",
       "    <tr style=\"text-align: right;\">\n",
       "      <th></th>\n",
       "      <th>High</th>\n",
       "      <th>Low</th>\n",
       "      <th>Open</th>\n",
       "      <th>Close</th>\n",
       "      <th>Volume</th>\n",
       "      <th>Adj Close</th>\n",
       "    </tr>\n",
       "    <tr>\n",
       "      <th>Date</th>\n",
       "      <th></th>\n",
       "      <th></th>\n",
       "      <th></th>\n",
       "      <th></th>\n",
       "      <th></th>\n",
       "      <th></th>\n",
       "    </tr>\n",
       "  </thead>\n",
       "  <tbody>\n",
       "    <tr>\n",
       "      <th>2022-03-02</th>\n",
       "      <td>2705.250000</td>\n",
       "      <td>2661.429932</td>\n",
       "      <td>2692.560059</td>\n",
       "      <td>2691.429932</td>\n",
       "      <td>1176000</td>\n",
       "      <td>2691.429932</td>\n",
       "    </tr>\n",
       "    <tr>\n",
       "      <th>2022-03-03</th>\n",
       "      <td>2728.790039</td>\n",
       "      <td>2660.510010</td>\n",
       "      <td>2720.199951</td>\n",
       "      <td>2677.989990</td>\n",
       "      <td>1230200</td>\n",
       "      <td>2677.989990</td>\n",
       "    </tr>\n",
       "    <tr>\n",
       "      <th>2022-03-04</th>\n",
       "      <td>2677.030029</td>\n",
       "      <td>2606.750000</td>\n",
       "      <td>2658.550049</td>\n",
       "      <td>2638.129883</td>\n",
       "      <td>1521500</td>\n",
       "      <td>2638.129883</td>\n",
       "    </tr>\n",
       "  </tbody>\n",
       "</table>\n",
       "</div>"
      ],
      "text/plain": [
       "                   High          Low         Open        Close   Volume  \\\n",
       "Date                                                                      \n",
       "2022-03-02  2705.250000  2661.429932  2692.560059  2691.429932  1176000   \n",
       "2022-03-03  2728.790039  2660.510010  2720.199951  2677.989990  1230200   \n",
       "2022-03-04  2677.030029  2606.750000  2658.550049  2638.129883  1521500   \n",
       "\n",
       "              Adj Close  \n",
       "Date                     \n",
       "2022-03-02  2691.429932  \n",
       "2022-03-03  2677.989990  \n",
       "2022-03-04  2638.129883  "
      ]
     },
     "execution_count": 5,
     "metadata": {},
     "output_type": "execute_result"
    }
   ],
   "source": [
    "d.tail(3)"
   ]
  },
  {
   "cell_type": "code",
   "execution_count": 6,
   "id": "5727ec8c",
   "metadata": {},
   "outputs": [
    {
     "data": {
      "text/plain": [
       "<AxesSubplot:xlabel='Date'>"
      ]
     },
     "execution_count": 6,
     "metadata": {},
     "output_type": "execute_result"
    },
    {
     "data": {
      "image/png": "[encoded data removed]",
      "text/plain": [
       "<Figure size 432x288 with 1 Axes>"
      ]
     },
     "metadata": {
      "needs_background": "light"
     },
     "output_type": "display_data"
    }
   ],
   "source": [
    "d.Close.plot()"
   ]
  },
  {
   "cell_type": "code",
   "execution_count": 7,
   "id": "8ffa41a0",
   "metadata": {},
   "outputs": [
    {
     "data": {
      "text/plain": [
       "Date\n",
       "2021-06-04    2393.570068\n",
       "2021-06-07    2402.300049\n",
       "2021-06-08    2398.439941\n",
       "2021-06-09    2407.939941\n",
       "2021-06-10    2435.129883\n",
       "                 ...     \n",
       "2022-02-28    2701.139893\n",
       "2022-03-01    2681.229980\n",
       "2022-03-02    2691.429932\n",
       "2022-03-03    2677.989990\n",
       "2022-03-04    2638.129883\n",
       "Name: Adj Close, Length: 190, dtype: float64"
      ]
     },
     "execution_count": 7,
     "metadata": {},
     "output_type": "execute_result"
    }
   ],
   "source": [
    "d['Adj Close']"
   ]
  },
  {
   "cell_type": "code",
   "execution_count": 8,
   "id": "6489202a",
   "metadata": {},
   "outputs": [
    {
     "data": {
      "text/plain": [
       "Date\n",
       "2021-06-04            NaN\n",
       "2021-06-07    2393.570068\n",
       "2021-06-08    2402.300049\n",
       "2021-06-09    2398.439941\n",
       "2021-06-10    2407.939941\n",
       "                 ...     \n",
       "2022-02-28    2689.189941\n",
       "2022-03-01    2701.139893\n",
       "2022-03-02    2681.229980\n",
       "2022-03-03    2691.429932\n",
       "2022-03-04    2677.989990\n",
       "Name: Adj Close, Length: 190, dtype: float64"
      ]
     },
     "execution_count": 8,
     "metadata": {},
     "output_type": "execute_result"
    }
   ],
   "source": [
    "# log price return = ln(P(t)) - ln(P(t-1))\n",
    "d['Adj Close'].shift(1)"
   ]
  },
  {
   "cell_type": "code",
   "execution_count": 9,
   "id": "f849c47f",
   "metadata": {},
   "outputs": [],
   "source": [
    "r = np.log(d['Adj Close']) -np.log(d['Adj Close'].shift(1))"
   ]
  },
  {
   "cell_type": "code",
   "execution_count": 10,
   "id": "78cd3f10",
   "metadata": {},
   "outputs": [
    {
     "data": {
      "text/plain": [
       "Date\n",
       "2021-06-04         NaN\n",
       "2021-06-07    0.003641\n",
       "2021-06-08   -0.001608\n",
       "2021-06-09    0.003953\n",
       "2021-06-10    0.011229\n",
       "                ...   \n",
       "2022-02-28    0.004434\n",
       "2022-03-01   -0.007398\n",
       "2022-03-02    0.003797\n",
       "2022-03-03   -0.005006\n",
       "2022-03-04   -0.014996\n",
       "Name: Adj Close, Length: 190, dtype: float64"
      ]
     },
     "execution_count": 10,
     "metadata": {},
     "output_type": "execute_result"
    }
   ],
   "source": [
    "r"
   ]
  },
  {
   "cell_type": "code",
   "execution_count": 11,
   "id": "e26522db",
   "metadata": {},
   "outputs": [
    {
     "data": {
      "text/plain": [
       "pandas.core.window.rolling.Rolling"
      ]
     },
     "execution_count": 11,
     "metadata": {},
     "output_type": "execute_result"
    }
   ],
   "source": [
    "#SMA over 3 days\n",
    "r_sma = r.rolling(window=3) # returns a Rolling object (used to compute mean and std)\n",
    "type(r_sma)"
   ]
  },
  {
   "cell_type": "code",
   "execution_count": 12,
   "id": "1de84eac",
   "metadata": {},
   "outputs": [
    {
     "data": {
      "text/plain": [
       "Date\n",
       "2021-06-04         NaN\n",
       "2021-06-07         NaN\n",
       "2021-06-08         NaN\n",
       "2021-06-09    0.001995\n",
       "2021-06-10    0.004524\n",
       "                ...   \n",
       "2022-02-28    0.018964\n",
       "2022-03-01    0.003425\n",
       "2022-03-02    0.000278\n",
       "2022-03-03   -0.002869\n",
       "2022-03-04   -0.005402\n",
       "Name: Adj Close, Length: 190, dtype: float64"
      ]
     },
     "execution_count": 12,
     "metadata": {},
     "output_type": "execute_result"
    }
   ],
   "source": [
    "r_sma.mean() # SMA mean of log price return r"
   ]
  },
  {
   "cell_type": "code",
   "execution_count": 14,
   "id": "732a93b8",
   "metadata": {},
   "outputs": [],
   "source": [
    "# EWMA\n",
    "r_ewm = r.ewm(alpha=0.06, # alpha = 1- lamda=0.94 # returns a ewm object\n",
    "             adjust = True, # Ture: weighted sum formula, False: recursive formula\n",
    "             min_periods=3)"
   ]
  },
  {
   "cell_type": "code",
   "execution_count": 15,
   "id": "ba4ce4bd",
   "metadata": {},
   "outputs": [
    {
     "data": {
      "text/plain": [
       "pandas.core.window.ewm.ExponentialMovingWindow"
      ]
     },
     "execution_count": 15,
     "metadata": {},
     "output_type": "execute_result"
    }
   ],
   "source": [
    "type (r_ewm)"
   ]
  },
  {
   "cell_type": "code",
   "execution_count": 16,
   "id": "bef35583",
   "metadata": {},
   "outputs": [
    {
     "data": {
      "text/plain": [
       "Date\n",
       "2021-06-04         NaN\n",
       "2021-06-07         NaN\n",
       "2021-06-08         NaN\n",
       "2021-06-09    0.002004\n",
       "2021-06-10    0.004528\n",
       "                ...   \n",
       "2022-02-28   -0.000467\n",
       "2022-03-01   -0.000883\n",
       "2022-03-02   -0.000602\n",
       "2022-03-03   -0.000866\n",
       "2022-03-04   -0.001714\n",
       "Name: Adj Close, Length: 190, dtype: float64"
      ]
     },
     "execution_count": 16,
     "metadata": {},
     "output_type": "execute_result"
    }
   ],
   "source": [
    "r_ewm.mean()"
   ]
  },
  {
   "cell_type": "code",
   "execution_count": 17,
   "id": "3f69a912",
   "metadata": {},
   "outputs": [
    {
     "data": {
      "text/plain": [
       "<AxesSubplot:xlabel='Date'>"
      ]
     },
     "execution_count": 17,
     "metadata": {},
     "output_type": "execute_result"
    },
    {
     "data": {
      "image/png": "[encoded data removed]",
      "text/plain": [
       "<Figure size 432x288 with 1 Axes>"
      ]
     },
     "metadata": {
      "needs_background": "light"
     },
     "output_type": "display_data"
    }
   ],
   "source": [
    "sma_r = r_sma.mean()\n",
    "ewm_r = r_ewm.mean()\n",
    "sma_r.plot (label = 'SMA', legend = True)\n",
    "ewm_r.plot (label = 'EWM', legend = True)"
   ]
  },
  {
   "cell_type": "code",
   "execution_count": 18,
   "id": "37f15f2d",
   "metadata": {},
   "outputs": [
    {
     "data": {
      "text/plain": [
       "<AxesSubplot:xlabel='Date'>"
      ]
     },
     "execution_count": 18,
     "metadata": {},
     "output_type": "execute_result"
    },
    {
     "data": {
      "image/png": "[encoded data removed]",
      "text/plain": [
       "<Figure size 432x288 with 1 Axes>"
      ]
     },
     "metadata": {
      "needs_background": "light"
     },
     "output_type": "display_data"
    }
   ],
   "source": [
    "sma_vol = r_sma.std()\n",
    "ewm_vol = r_ewm.std()\n",
    "sma_vol.plot (label = 'SMA', legend = True)\n",
    "ewm_vol.plot (label = 'EWM', legend = True)"
   ]
  },
  {
   "cell_type": "code",
   "execution_count": null,
   "id": "c4781b5b",
   "metadata": {},
   "outputs": [],
   "source": [
    "# class exercise: download the price series for FB and AAPL\n",
    "# and compare their EWMA vol estimates (past half year or longer peroid)"
   ]
  },
  {
   "cell_type": "code",
   "execution_count": 19,
   "id": "b9aec6f6",
   "metadata": {},
   "outputs": [],
   "source": [
    "d= web.DataReader(name='GOOGL', data_source='yahoo',\n",
    "                 start = '2021-03-04',\n",
    "                 end = '2022-03-04')"
   ]
  },
  {
   "cell_type": "code",
   "execution_count": 20,
   "id": "e824a798",
   "metadata": {},
   "outputs": [],
   "source": [
    "d1 = web.DataReader(name='FB', data_source='yahoo',\n",
    "                 start = '2021-03-04',\n",
    "                 end = '2022-03-04')"
   ]
  },
  {
   "cell_type": "code",
   "execution_count": 21,
   "id": "9ca09f2f",
   "metadata": {},
   "outputs": [],
   "source": [
    "d2 = web.DataReader(name='AAPL', data_source='yahoo',\n",
    "                 start = '2021-03-04',\n",
    "                 end = '2022-03-04')"
   ]
  },
  {
   "cell_type": "code",
   "execution_count": 22,
   "id": "4a443b7a",
   "metadata": {},
   "outputs": [],
   "source": [
    "r = np.log(d['Adj Close']) - np.log(d['Adj Close'].shift(1))\n",
    "r1 = np.log(d1['Adj Close']) - np.log(d1['Adj Close'].shift(1))\n",
    "r2 = np.log(d2['Adj Close']) - np.log(d2['Adj Close'].shift(1))"
   ]
  },
  {
   "cell_type": "code",
   "execution_count": 23,
   "id": "8d50366e",
   "metadata": {},
   "outputs": [
    {
     "data": {
      "text/plain": [
       "<AxesSubplot:xlabel='Date'>"
      ]
     },
     "execution_count": 23,
     "metadata": {},
     "output_type": "execute_result"
    },
    {
     "data": {
      "image/png": "[encoded data removed]",
      "text/plain": [
       "<Figure size 432x288 with 1 Axes>"
      ]
     },
     "metadata": {
      "needs_background": "light"
     },
     "output_type": "display_data"
    }
   ],
   "source": [
    "r_ewm = r.ewm (alpha = 0.06, adjust = True, min_periods=3)\n",
    "r1_ewm = r1.ewm (alpha = 0.06, adjust = True, min_periods=3)\n",
    "r2_ewm = r2.ewm (alpha = 0.06, adjust = True, min_periods=3)\n",
    "\n",
    "ewm_voL = r_ewm.std()\n",
    "ewm_vol1 = r1_ewm.std()\n",
    "ewm_vol2 = r2_ewm.std()\n",
    "\n",
    "ewm_vol.plot(label=\"GOOGL\", legend =True)\n",
    "ewm_vol1.plot(label=\"FB\", legend =True)\n",
    "ewm_vol2.plot(label=\"AAPL\", legend =True)"
   ]
  },
  {
   "cell_type": "code",
   "execution_count": 24,
   "id": "f396430f",
   "metadata": {},
   "outputs": [
    {
     "data": {
      "text/plain": [
       "<AxesSubplot:xlabel='Date'>"
      ]
     },
     "execution_count": 24,
     "metadata": {},
     "output_type": "execute_result"
    },
    {
     "data": {
      "image/png": "[encoded data removed]",
      "text/plain": [
       "<Figure size 432x288 with 1 Axes>"
      ]
     },
     "metadata": {
      "needs_background": "light"
     },
     "output_type": "display_data"
    }
   ],
   "source": [
    "ewm_vol[-25:-10].plot(label='GOOGL',legend=True)\n",
    "ewm_vol1[-25:-10].plot(label='FB',legend=True)\n",
    "ewm_vol2[-25:-10].plot(label='AAPL',legend=True)"
   ]
  },
  {
   "cell_type": "code",
   "execution_count": 25,
   "id": "52bac134",
   "metadata": {},
   "outputs": [
    {
     "data": {
      "text/plain": [
       "Date\n",
       "2022-01-28    0.023712\n",
       "2022-01-31    0.037567\n",
       "2022-02-01    0.018158\n",
       "2022-02-02    0.012461\n",
       "2022-02-03   -0.306391\n",
       "2022-02-04   -0.002822\n",
       "2022-02-07   -0.052739\n",
       "2022-02-08   -0.021255\n",
       "2022-02-09    0.052292\n",
       "2022-02-10   -0.017085\n",
       "Name: Adj Close, dtype: float64"
      ]
     },
     "execution_count": 25,
     "metadata": {},
     "output_type": "execute_result"
    }
   ],
   "source": [
    "# d1['Adj Close'].tail()\n",
    "r1[-25:-15]"
   ]
  },
  {
   "cell_type": "markdown",
   "id": "94280770",
   "metadata": {},
   "source": [
    "### 3.25 Class8 VaR"
   ]
  },
  {
   "cell_type": "markdown",
   "id": "5da9f143",
   "metadata": {},
   "source": [
    "### 4.1 Class9 Machine Learning Basics"
   ]
  },
  {
   "cell_type": "markdown",
   "id": "a929c108",
   "metadata": {},
   "source": [
    "### 4.8 Class10 Support Vector Machines (SVM)"
   ]
  },
  {
   "cell_type": "code",
   "execution_count": 26,
   "id": "0d83d439",
   "metadata": {},
   "outputs": [],
   "source": [
    "import sklearn\n",
    "import numpy as np\n",
    "import pandas as pd"
   ]
  },
  {
   "cell_type": "code",
   "execution_count": 27,
   "id": "0b5908b6",
   "metadata": {},
   "outputs": [],
   "source": [
    "from sklearn import datasets"
   ]
  },
  {
   "cell_type": "code",
   "execution_count": 28,
   "id": "aa5f1452",
   "metadata": {},
   "outputs": [],
   "source": [
    "housing = datasets.fetch_california_housing()"
   ]
  },
  {
   "cell_type": "code",
   "execution_count": 29,
   "id": "06f7a3fd",
   "metadata": {},
   "outputs": [
    {
     "data": {
      "text/plain": [
       "(['MedInc',\n",
       "  'HouseAge',\n",
       "  'AveRooms',\n",
       "  'AveBedrms',\n",
       "  'Population',\n",
       "  'AveOccup',\n",
       "  'Latitude',\n",
       "  'Longitude'],\n",
       " ['MedHouseVal'])"
      ]
     },
     "execution_count": 29,
     "metadata": {},
     "output_type": "execute_result"
    }
   ],
   "source": [
    "housing.feature_names, housing.target_names"
   ]
  },
  {
   "cell_type": "code",
   "execution_count": 30,
   "id": "8eed3e73",
   "metadata": {},
   "outputs": [
    {
     "data": {
      "text/plain": [
       "((20640, 8), numpy.ndarray)"
      ]
     },
     "execution_count": 30,
     "metadata": {},
     "output_type": "execute_result"
    }
   ],
   "source": [
    "housing.data.shape, type(housing.data)"
   ]
  },
  {
   "cell_type": "code",
   "execution_count": 33,
   "id": "8dd186a6",
   "metadata": {},
   "outputs": [],
   "source": [
    "import scipy.stats as stats\n",
    "\n",
    "def BS_option_value (S0, K, T, r, q, v):\n",
    "    d1 = (np.log(S0/K)+(r-q+0.5*v**2)*T)/ (v*np.sqrt(T))\n",
    "    d2 = d1 - v*np.sqrt(T)\n",
    "    price = S0 * np.exp (-q*T)*stats.norm.cdf(d1) - K * np.exp (-r*T) * stats.norm.cdf(d2)\n",
    "    return price"
   ]
  },
  {
   "cell_type": "code",
   "execution_count": 34,
   "id": "7e3e801e",
   "metadata": {},
   "outputs": [
    {
     "data": {
      "text/plain": [
       "9.49138210449216"
      ]
     },
     "execution_count": 34,
     "metadata": {},
     "output_type": "execute_result"
    }
   ],
   "source": [
    "S0, K, T, r, q ,v = 180, 180, 0.5, 0.001, 0.015, 0.20\n",
    "BS_option_value (S0, K, T, r, q, v)"
   ]
  },
  {
   "cell_type": "code",
   "execution_count": 35,
   "id": "496529b1",
   "metadata": {},
   "outputs": [],
   "source": [
    "N = 1000\n",
    "np.random.seed(1)  # 啥意思? seed?\n",
    "S0 = 180 * np.random.uniform (0.6, 1.4, size = N)\n",
    "v = np.random.uniform (0.05, 0.40, size = N)\n",
    "dummy = np.random.uniform (-1.0,1.0, size =N)\n",
    "p = BS_option_value (S0, K,T, r,q, v)"
   ]
  },
  {
   "cell_type": "code",
   "execution_count": 36,
   "id": "c41d4c63",
   "metadata": {},
   "outputs": [
    {
     "data": {
      "text/plain": [
       "((1000,),\n",
       " array([168.05116868, 211.72672706, 108.01646997]),\n",
       " array([ 3.10578408, 38.47453516,  0.10008764]))"
      ]
     },
     "execution_count": 36,
     "metadata": {},
     "output_type": "execute_result"
    }
   ],
   "source": [
    "p.shape, S0 [:3], p[:3]"
   ]
  },
  {
   "cell_type": "code",
   "execution_count": 37,
   "id": "cd5287c0",
   "metadata": {},
   "outputs": [],
   "source": [
    "S0 = S0.reshape (N,1)\n",
    "v = v.reshape (N,1)\n",
    "dummy = dummy.reshape (N,1)\n",
    "x= np.concatenate ((S0, v, dummy), axis =1)\n",
    "# reshape\n",
    "# axis =1 什么意思"
   ]
  },
  {
   "cell_type": "code",
   "execution_count": 38,
   "id": "61f7ea6f",
   "metadata": {},
   "outputs": [
    {
     "data": {
      "text/plain": [
       "(1000, 3)"
      ]
     },
     "execution_count": 38,
     "metadata": {},
     "output_type": "execute_result"
    }
   ],
   "source": [
    "x.shape"
   ]
  },
  {
   "cell_type": "code",
   "execution_count": 39,
   "id": "efe9eacb",
   "metadata": {},
   "outputs": [],
   "source": [
    "from sklearn.model_selection import train_test_split\n",
    "x_train, x_test, y_train, y_test = train_test_split (x, p, test_size = 0.2)"
   ]
  },
  {
   "cell_type": "code",
   "execution_count": 40,
   "id": "64701e03",
   "metadata": {},
   "outputs": [
    {
     "data": {
      "text/plain": [
       "((800, 3), array([2.04297519e+02, 1.52309817e-01, 8.02133987e-01]))"
      ]
     },
     "execution_count": 40,
     "metadata": {},
     "output_type": "execute_result"
    }
   ],
   "source": [
    "x_train.shape, x_train[0]"
   ]
  },
  {
   "cell_type": "code",
   "execution_count": 41,
   "id": "b8bcf819",
   "metadata": {},
   "outputs": [],
   "source": [
    "from sklearn.preprocessing import StandardScaler"
   ]
  },
  {
   "cell_type": "code",
   "execution_count": 43,
   "id": "b37c0ce8",
   "metadata": {},
   "outputs": [],
   "source": [
    "scaler = StandardScaler()\n",
    "scaler.fit(x_train) # prepare the necessary info eg. stdev of each featre\n",
    "X_train = scaler.transform(x_train) # convert feature value to Z-score\n",
    "X_test = scaler.transform(x_test)"
   ]
  },
  {
   "cell_type": "code",
   "execution_count": 44,
   "id": "1820b29d",
   "metadata": {},
   "outputs": [
    {
     "data": {
      "text/plain": [
       "array([ 0.58034896, -0.77642021,  1.51231859])"
      ]
     },
     "execution_count": 44,
     "metadata": {},
     "output_type": "execute_result"
    }
   ],
   "source": [
    "X_train[0]"
   ]
  },
  {
   "cell_type": "code",
   "execution_count": 45,
   "id": "ab7aa8df",
   "metadata": {},
   "outputs": [],
   "source": [
    "from sklearn import svm"
   ]
  },
  {
   "cell_type": "code",
   "execution_count": 46,
   "id": "3cb9de09",
   "metadata": {},
   "outputs": [],
   "source": [
    "model = svm.SVR (C=1.0, kernel = 'rbf', gamma =1.0)"
   ]
  },
  {
   "cell_type": "code",
   "execution_count": 47,
   "id": "601afadf",
   "metadata": {},
   "outputs": [
    {
     "data": {
      "text/plain": [
       "SVR(gamma=1.0)"
      ]
     },
     "execution_count": 47,
     "metadata": {},
     "output_type": "execute_result"
    }
   ],
   "source": [
    "model.fit (X_train, y_train)"
   ]
  },
  {
   "cell_type": "code",
   "execution_count": 49,
   "id": "e640675f",
   "metadata": {},
   "outputs": [
    {
     "data": {
      "text/plain": [
       "(array([37.32773469,  3.45731164, 35.56397525]),\n",
       " array([6.70392734e+01, 1.73866746e-02, 4.48709069e+01]))"
      ]
     },
     "execution_count": 49,
     "metadata": {},
     "output_type": "execute_result"
    }
   ],
   "source": [
    "y_predict = model.predict (X_test)\n",
    "y_predict[:3], y_test[:3]"
   ]
  },
  {
   "cell_type": "code",
   "execution_count": 50,
   "id": "6f7d41c5",
   "metadata": {},
   "outputs": [
    {
     "data": {
      "text/plain": [
       "0.8922321220917604"
      ]
     },
     "execution_count": 50,
     "metadata": {},
     "output_type": "execute_result"
    }
   ],
   "source": [
    "model.score (X_test, y_test) # score method是什么意思"
   ]
  },
  {
   "cell_type": "code",
   "execution_count": 52,
   "id": "26b7e7de",
   "metadata": {},
   "outputs": [],
   "source": [
    "from sklearn.model_selection import cross_val_score\n",
    "cv_scores = cross_val_score (model, X_train, y_train, cv=5)"
   ]
  },
  {
   "cell_type": "code",
   "execution_count": 53,
   "id": "0ed1d1b2",
   "metadata": {},
   "outputs": [
    {
     "data": {
      "text/plain": [
       "0.8641731991701649"
      ]
     },
     "execution_count": 53,
     "metadata": {},
     "output_type": "execute_result"
    }
   ],
   "source": [
    "cv_scores.mean()"
   ]
  },
  {
   "cell_type": "code",
   "execution_count": 54,
   "id": "baa41010",
   "metadata": {},
   "outputs": [],
   "source": [
    "from sklearn.model_selection import GridSearchCV"
   ]
  },
  {
   "cell_type": "code",
   "execution_count": 55,
   "id": "2bf8e5c2",
   "metadata": {},
   "outputs": [
    {
     "data": {
      "text/plain": [
       "GridSearchCV(cv=5, estimator=SVR(gamma=1.0),\n",
       "             param_grid=[{'C': [1, 10, 100], 'gamma': [0.01, 0.1, 1, 10]}])"
      ]
     },
     "execution_count": 55,
     "metadata": {},
     "output_type": "execute_result"
    }
   ],
   "source": [
    "parm_grid = [\n",
    "    {'C':[1,10,100], 'gamma':[0.01,0.1,1,10]}\n",
    "]\n",
    "grid_search = GridSearchCV (model, parm_grid, cv=5)\n",
    "grid_search.fit (X_train, y_train)# do the real job"
   ]
  },
  {
   "cell_type": "code",
   "execution_count": 57,
   "id": "239a8ba3",
   "metadata": {},
   "outputs": [],
   "source": [
    "best_model = grid_search.best_estimator_"
   ]
  },
  {
   "cell_type": "code",
   "execution_count": 58,
   "id": "db5d80aa",
   "metadata": {},
   "outputs": [
    {
     "data": {
      "text/plain": [
       "{'C': 100, 'gamma': 1}"
      ]
     },
     "execution_count": 58,
     "metadata": {},
     "output_type": "execute_result"
    }
   ],
   "source": [
    "grid_search.best_params_"
   ]
  },
  {
   "cell_type": "markdown",
   "id": "64b51fe7",
   "metadata": {},
   "source": [
    "### 4.15 Class11 Tree-based models (Random forcast)"
   ]
  },
  {
   "cell_type": "code",
   "execution_count": 59,
   "id": "266f72b1",
   "metadata": {},
   "outputs": [],
   "source": [
    "import numpy as np\n",
    "import matplotlib.pyplot as plt\n",
    "from sklearn.datasets import make_classification\n",
    "from sklearn import tree"
   ]
  },
  {
   "cell_type": "code",
   "execution_count": 60,
   "id": "030978b4",
   "metadata": {},
   "outputs": [],
   "source": [
    "n = 1000\n",
    "X, y = make_classification (n_samples= n, n_features = 2, n_redundant = 0,\n",
    "                           n_clusters_per_class = 1 , n_classes =3, \n",
    "                           random_state = 0)"
   ]
  },
  {
   "cell_type": "code",
   "execution_count": 62,
   "id": "bc58780b",
   "metadata": {},
   "outputs": [
    {
     "data": {
      "text/plain": [
       "<matplotlib.collections.PathCollection at 0x7f9d3c424700>"
      ]
     },
     "execution_count": 62,
     "metadata": {},
     "output_type": "execute_result"
    },
    {
     "data": {
      "image/png": "[encoded data removed]",
      "text/plain": [
       "<Figure size 432x288 with 1 Axes>"
      ]
     },
     "metadata": {
      "needs_background": "light"
     },
     "output_type": "display_data"
    }
   ],
   "source": [
    "colors = np.array(['blue','orange','pink'])\n",
    "plt. scatter (X[:,0], X[:,1], color =colors[y])"
   ]
  },
  {
   "cell_type": "code",
   "execution_count": 63,
   "id": "3ec24fe6",
   "metadata": {},
   "outputs": [],
   "source": [
    "from sklearn.model_selection import train_test_split\n",
    "X_train, X_test, y_train, y_test = train_test_split (X, y, test_size = 0.2, random_state =0)"
   ]
  },
  {
   "cell_type": "code",
   "execution_count": 64,
   "id": "cedb2937",
   "metadata": {},
   "outputs": [],
   "source": [
    "from sklearn.tree import DecisionTreeClassifier\n",
    "dt = DecisionTreeClassifier (max_leaf_nodes = 10 )# hyperparameters"
   ]
  },
  {
   "cell_type": "code",
   "execution_count": 65,
   "id": "d77cffaa",
   "metadata": {},
   "outputs": [
    {
     "data": {
      "text/plain": [
       "DecisionTreeClassifier(max_leaf_nodes=10)"
      ]
     },
     "execution_count": 65,
     "metadata": {},
     "output_type": "execute_result"
    }
   ],
   "source": [
    "dt.fit( X_train, y_train)"
   ]
  },
  {
   "cell_type": "code",
   "execution_count": 66,
   "id": "ecbe6f36",
   "metadata": {},
   "outputs": [
    {
     "data": {
      "text/plain": [
       "0.87"
      ]
     },
     "execution_count": 66,
     "metadata": {},
     "output_type": "execute_result"
    }
   ],
   "source": [
    "dt.score (X_test, y_test)"
   ]
  },
  {
   "cell_type": "code",
   "execution_count": 69,
   "id": "d4007d65",
   "metadata": {},
   "outputs": [
    {
     "data": {
      "text/plain": [
       "2"
      ]
     },
     "execution_count": 69,
     "metadata": {},
     "output_type": "execute_result"
    }
   ],
   "source": [
    "y_pred = dt. predict (X_test)\n",
    "y_pred[0]\n"
   ]
  },
  {
   "cell_type": "code",
   "execution_count": 68,
   "id": "c9a688f9",
   "metadata": {},
   "outputs": [
    {
     "data": {
      "text/plain": [
       "array([0.03488372, 0.02325581, 0.94186047])"
      ]
     },
     "execution_count": 68,
     "metadata": {},
     "output_type": "execute_result"
    }
   ],
   "source": [
    "# class probability distribution \n",
    "pred_probs = dt. predict_proba (X_test)\n",
    "pred_probs[0]\n"
   ]
  },
  {
   "cell_type": "code",
   "execution_count": 70,
   "id": "b6c9db89",
   "metadata": {},
   "outputs": [
    {
     "data": {
      "image/png": "[encoded data removed]",
      "text/plain": [
       "<Figure size 1296x720 with 1 Axes>"
      ]
     },
     "metadata": {
      "needs_background": "light"
     },
     "output_type": "display_data"
    }
   ],
   "source": [
    "fig = plt.figure(figsize = (18, 10))\n",
    "tree.plot_tree (dt)\n",
    "plt.show()\n"
   ]
  },
  {
   "cell_type": "code",
   "execution_count": 71,
   "id": "6a94aefc",
   "metadata": {},
   "outputs": [],
   "source": [
    "# extract tree nodes and info from here\n",
    "tr = dt.tree_"
   ]
  },
  {
   "cell_type": "code",
   "execution_count": 72,
   "id": "9b58ee0d",
   "metadata": {},
   "outputs": [
    {
     "data": {
      "text/plain": [
       "(1, -0.11396245658397675, 0.6665593750000001, array([[269., 271., 260.]]))"
      ]
     },
     "execution_count": 72,
     "metadata": {},
     "output_type": "execute_result"
    }
   ],
   "source": [
    "# feature index at the root node 0\n",
    "tr.feature [0], tr.threshold[0], tr.impurity [0], tr.value [0]"
   ]
  },
  {
   "cell_type": "code",
   "execution_count": 73,
   "id": "01acaa3c",
   "metadata": {},
   "outputs": [],
   "source": [
    "left_node_idx = tr.children_left[0]"
   ]
  },
  {
   "cell_type": "code",
   "execution_count": 74,
   "id": "c3598a5c",
   "metadata": {},
   "outputs": [
    {
     "data": {
      "text/plain": [
       "0"
      ]
     },
     "execution_count": 74,
     "metadata": {},
     "output_type": "execute_result"
    }
   ],
   "source": [
    "tr.feature [ left_node_idx]\n",
    "# this value refers to the feature index for splitting"
   ]
  },
  {
   "cell_type": "code",
   "execution_count": 75,
   "id": "81fb23c3",
   "metadata": {},
   "outputs": [],
   "source": [
    "from sklearn.ensemble import RandomForestClassifier\n",
    "rf = RandomForestClassifier(max_features =1, n_estimators =5 , random_state = 10)"
   ]
  },
  {
   "cell_type": "code",
   "execution_count": 76,
   "id": "fef4c8b1",
   "metadata": {},
   "outputs": [
    {
     "data": {
      "text/plain": [
       "RandomForestClassifier(max_features=1, n_estimators=5, random_state=10)"
      ]
     },
     "execution_count": 76,
     "metadata": {},
     "output_type": "execute_result"
    }
   ],
   "source": [
    "rf. fit(X_train, y_train)"
   ]
  },
  {
   "cell_type": "code",
   "execution_count": 79,
   "id": "9fa69130",
   "metadata": {},
   "outputs": [],
   "source": [
    "from sklearn.model_selection import GridSearchCV\n",
    "\n",
    "param_grid = [\n",
    "    {'max_features': [1,2],\n",
    "    'n_estimators': np.arange(1,40)}\n",
    "]\n",
    "gs = GridSearchCV (rf, param_grid, cv=5)"
   ]
  },
  {
   "cell_type": "code",
   "execution_count": 80,
   "id": "5149576c",
   "metadata": {},
   "outputs": [
    {
     "data": {
      "text/plain": [
       "GridSearchCV(cv=5,\n",
       "             estimator=RandomForestClassifier(max_features=1, n_estimators=5,\n",
       "                                              random_state=10),\n",
       "             param_grid=[{'max_features': [1, 2],\n",
       "                          'n_estimators': array([ 1,  2,  3,  4,  5,  6,  7,  8,  9, 10, 11, 12, 13, 14, 15, 16, 17,\n",
       "       18, 19, 20, 21, 22, 23, 24, 25, 26, 27, 28, 29, 30, 31, 32, 33, 34,\n",
       "       35, 36, 37, 38, 39])}])"
      ]
     },
     "execution_count": 80,
     "metadata": {},
     "output_type": "execute_result"
    }
   ],
   "source": [
    "gs.fit (X_train, y_train)"
   ]
  },
  {
   "cell_type": "code",
   "execution_count": 81,
   "id": "e8cf3fd5",
   "metadata": {},
   "outputs": [
    {
     "data": {
      "text/plain": [
       "{'max_features': 1, 'n_estimators': 19}"
      ]
     },
     "execution_count": 81,
     "metadata": {},
     "output_type": "execute_result"
    }
   ],
   "source": [
    "gs.best_params_"
   ]
  },
  {
   "cell_type": "code",
   "execution_count": 82,
   "id": "145f85a0",
   "metadata": {},
   "outputs": [],
   "source": [
    "# mean cv score\n",
    "mean_cv_scores = gs.cv_results_['mean_test_score'].reshape(2,39)"
   ]
  },
  {
   "cell_type": "code",
   "execution_count": 83,
   "id": "e5716086",
   "metadata": {},
   "outputs": [
    {
     "data": {
      "text/plain": [
       "<matplotlib.legend.Legend at 0x7f9d3c47bd90>"
      ]
     },
     "execution_count": 83,
     "metadata": {},
     "output_type": "execute_result"
    },
    {
     "data": {
      "image/png": "[encoded data removed]",
      "text/plain": [
       "<Figure size 432x288 with 1 Axes>"
      ]
     },
     "metadata": {
      "needs_background": "light"
     },
     "output_type": "display_data"
    }
   ],
   "source": [
    "plt.plot(np.arange(1,40), mean_cv_scores[0], label = '1 feature')\n",
    "plt.plot(np.arange(1,40), mean_cv_scores[1], label = '2 feature')\n",
    "plt.legend()"
   ]
  },
  {
   "cell_type": "code",
   "execution_count": null,
   "id": "aa874354",
   "metadata": {},
   "outputs": [],
   "source": []
  },
  {
   "cell_type": "markdown",
   "id": "c64a993f",
   "metadata": {},
   "source": [
    "### 4.22 Class12 Neural Network"
   ]
  },
  {
   "cell_type": "code",
   "execution_count": 85,
   "id": "9f9afd51",
   "metadata": {},
   "outputs": [],
   "source": [
    "import numpy as np\n",
    "import matplotlib.pyplot as plt\n",
    "from sklearn.datasets import make_classification"
   ]
  },
  {
   "cell_type": "code",
   "execution_count": 88,
   "id": "2b245553",
   "metadata": {},
   "outputs": [],
   "source": [
    "n= 1000\n",
    "X, y = make_classification (n_samples = n, n_features =2, \n",
    "                          n_redundant =0 , n_informative = 2,\n",
    "                          n_clusters_per_class =1, n_classes =3,\n",
    "                          random_state =0 )"
   ]
  },
  {
   "cell_type": "code",
   "execution_count": 89,
   "id": "0053bb0c",
   "metadata": {},
   "outputs": [],
   "source": [
    "from sklearn.model_selection import train_test_split\n",
    "X_train, X_test, y_train, y_test = train_test_split (X, y, test_size =0.2, random_state= 0) #为什么random state =0?"
   ]
  },
  {
   "cell_type": "code",
   "execution_count": 90,
   "id": "aa661346",
   "metadata": {},
   "outputs": [
    {
     "data": {
      "text/plain": [
       "MLPClassifier(batch_size=200, early_stopping=True, hidden_layer_sizes=8,\n",
       "              max_iter=1000, solver='sgd')"
      ]
     },
     "execution_count": 90,
     "metadata": {},
     "output_type": "execute_result"
    }
   ],
   "source": [
    "from sklearn.neural_network import MLPClassifier\n",
    "\n",
    "mlp = MLPClassifier (hidden_layer_sizes =(8),\n",
    "                    max_iter = 1000,\n",
    "                    solver = 'sgd', #'adam'\n",
    "                    batch_size = 200,\n",
    "                    early_stopping = True)\n",
    "mlp.fit (X_train, y_train)"
   ]
  },
  {
   "cell_type": "code",
   "execution_count": 91,
   "id": "c9354ce4",
   "metadata": {},
   "outputs": [
    {
     "data": {
      "text/plain": [
       "0.32"
      ]
     },
     "execution_count": 91,
     "metadata": {},
     "output_type": "execute_result"
    }
   ],
   "source": [
    "mlp.score (X_test, y_test)"
   ]
  },
  {
   "cell_type": "code",
   "execution_count": 92,
   "id": "361e4367",
   "metadata": {},
   "outputs": [
    {
     "data": {
      "text/plain": [
       "19"
      ]
     },
     "execution_count": 92,
     "metadata": {},
     "output_type": "execute_result"
    }
   ],
   "source": [
    "mlp. n_iter_"
   ]
  },
  {
   "cell_type": "code",
   "execution_count": 93,
   "id": "d945a277",
   "metadata": {},
   "outputs": [
    {
     "data": {
      "text/plain": [
       "1.2134998349554966"
      ]
     },
     "execution_count": 93,
     "metadata": {},
     "output_type": "execute_result"
    }
   ],
   "source": [
    "mlp.loss_"
   ]
  },
  {
   "cell_type": "code",
   "execution_count": 94,
   "id": "4b6e4da9",
   "metadata": {},
   "outputs": [
    {
     "data": {
      "text/plain": [
       "[<matplotlib.lines.Line2D at 0x7f9d1f64d820>]"
      ]
     },
     "execution_count": 94,
     "metadata": {},
     "output_type": "execute_result"
    },
    {
     "data": {
      "image/png": "[encoded data removed]",
      "text/plain": [
       "<Figure size 432x288 with 1 Axes>"
      ]
     },
     "metadata": {
      "needs_background": "light"
     },
     "output_type": "display_data"
    }
   ],
   "source": [
    "plt.plot(mlp.loss_curve_)"
   ]
  },
  {
   "cell_type": "markdown",
   "id": "1ed9346b",
   "metadata": {},
   "source": [
    "### 4.29 Class13 Final Remarks"
   ]
  }
 ],
 "metadata": {
  "kernelspec": {
   "display_name": "Python 3 (ipykernel)",
   "language": "python",
   "name": "python3"
  },
  "language_info": {
   "codemirror_mode": {
    "name": "ipython",
    "version": 3
   },
   "file_extension": ".py",
   "mimetype": "text/x-python",
   "name": "python",
   "nbconvert_exporter": "python",
   "pygments_lexer": "ipython3",
   "version": "3.9.7"
  }
 },
 "nbformat": 4,
 "nbformat_minor": 5
}
